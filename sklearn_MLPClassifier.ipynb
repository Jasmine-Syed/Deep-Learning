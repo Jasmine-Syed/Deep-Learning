{
  "nbformat": 4,
  "nbformat_minor": 0,
  "metadata": {
    "colab": {
      "name": "sklearn_MLPClassifier.ipynb",
      "provenance": [],
      "include_colab_link": true
    },
    "kernelspec": {
      "name": "python3",
      "display_name": "Python 3"
    }
  },
  "cells": [
    {
      "cell_type": "markdown",
      "metadata": {
        "id": "view-in-github",
        "colab_type": "text"
      },
      "source": [
        "<a href=\"https://colab.research.google.com/github/Jasmine-Syed/Deep-Learning/blob/main/sklearn_MLPClassifier.ipynb\" target=\"_parent\"><img src=\"https://colab.research.google.com/assets/colab-badge.svg\" alt=\"Open In Colab\"/></a>"
      ]
    },
    {
      "cell_type": "code",
      "metadata": {
        "id": "rnToRdf8V1_Q"
      },
      "source": [
        "import numpy as np\n",
        "import pandas as pd\n"
      ],
      "execution_count": 2,
      "outputs": []
    },
    {
      "cell_type": "code",
      "metadata": {
        "id": "igtcbUHpXQ7F"
      },
      "source": [
        "##  Import the dataset, and add header columns with the names function\n",
        "\n",
        "data = pd.read_csv(\"wine.csv\",names=('Type', 'Alcohol', 'Malic', 'Ash', \n",
        "                      'Alcalinity', 'Magnesium', 'Phenols', \n",
        "                      'Flavanoids', 'Nonflavanoids',\n",
        "                      'Proanthocyanins', 'Color', 'Hue', \n",
        "                      'Dilution', 'Proline'))\n",
        "\n"
      ],
      "execution_count": 3,
      "outputs": []
    },
    {
      "cell_type": "code",
      "metadata": {
        "id": "GzMg5Ur0bF8R",
        "colab": {
          "base_uri": "https://localhost:8080/"
        },
        "outputId": "32e19133-43c5-474c-c61e-f8a729108dc3"
      },
      "source": [
        "#Check out the data\n",
        "print(\"shape\",data.shape)\n"
      ],
      "execution_count": 4,
      "outputs": [
        {
          "output_type": "stream",
          "text": [
            "shape (178, 14)\n"
          ],
          "name": "stdout"
        }
      ]
    },
    {
      "cell_type": "code",
      "metadata": {
        "id": "Aiuhx1yhX2Xw",
        "colab": {
          "base_uri": "https://localhost:8080/",
          "height": 188
        },
        "outputId": "d0cf7e81-c92d-47a3-f002-7abc46fbe344"
      },
      "source": [
        "data.head(4)\n"
      ],
      "execution_count": 5,
      "outputs": [
        {
          "output_type": "execute_result",
          "data": {
            "text/html": [
              "<div>\n",
              "<style scoped>\n",
              "    .dataframe tbody tr th:only-of-type {\n",
              "        vertical-align: middle;\n",
              "    }\n",
              "\n",
              "    .dataframe tbody tr th {\n",
              "        vertical-align: top;\n",
              "    }\n",
              "\n",
              "    .dataframe thead th {\n",
              "        text-align: right;\n",
              "    }\n",
              "</style>\n",
              "<table border=\"1\" class=\"dataframe\">\n",
              "  <thead>\n",
              "    <tr style=\"text-align: right;\">\n",
              "      <th></th>\n",
              "      <th>Type</th>\n",
              "      <th>Alcohol</th>\n",
              "      <th>Malic</th>\n",
              "      <th>Ash</th>\n",
              "      <th>Alcalinity</th>\n",
              "      <th>Magnesium</th>\n",
              "      <th>Phenols</th>\n",
              "      <th>Flavanoids</th>\n",
              "      <th>Nonflavanoids</th>\n",
              "      <th>Proanthocyanins</th>\n",
              "      <th>Color</th>\n",
              "      <th>Hue</th>\n",
              "      <th>Dilution</th>\n",
              "      <th>Proline</th>\n",
              "    </tr>\n",
              "  </thead>\n",
              "  <tbody>\n",
              "    <tr>\n",
              "      <th>0</th>\n",
              "      <td>1</td>\n",
              "      <td>14.23</td>\n",
              "      <td>1.71</td>\n",
              "      <td>2.43</td>\n",
              "      <td>15.6</td>\n",
              "      <td>127</td>\n",
              "      <td>2.80</td>\n",
              "      <td>3.06</td>\n",
              "      <td>0.28</td>\n",
              "      <td>2.29</td>\n",
              "      <td>5.64</td>\n",
              "      <td>1.04</td>\n",
              "      <td>3.92</td>\n",
              "      <td>1065</td>\n",
              "    </tr>\n",
              "    <tr>\n",
              "      <th>1</th>\n",
              "      <td>1</td>\n",
              "      <td>13.20</td>\n",
              "      <td>1.78</td>\n",
              "      <td>2.14</td>\n",
              "      <td>11.2</td>\n",
              "      <td>100</td>\n",
              "      <td>2.65</td>\n",
              "      <td>2.76</td>\n",
              "      <td>0.26</td>\n",
              "      <td>1.28</td>\n",
              "      <td>4.38</td>\n",
              "      <td>1.05</td>\n",
              "      <td>3.40</td>\n",
              "      <td>1050</td>\n",
              "    </tr>\n",
              "    <tr>\n",
              "      <th>2</th>\n",
              "      <td>1</td>\n",
              "      <td>13.16</td>\n",
              "      <td>2.36</td>\n",
              "      <td>2.67</td>\n",
              "      <td>18.6</td>\n",
              "      <td>101</td>\n",
              "      <td>2.80</td>\n",
              "      <td>3.24</td>\n",
              "      <td>0.30</td>\n",
              "      <td>2.81</td>\n",
              "      <td>5.68</td>\n",
              "      <td>1.03</td>\n",
              "      <td>3.17</td>\n",
              "      <td>1185</td>\n",
              "    </tr>\n",
              "    <tr>\n",
              "      <th>3</th>\n",
              "      <td>1</td>\n",
              "      <td>14.37</td>\n",
              "      <td>1.95</td>\n",
              "      <td>2.50</td>\n",
              "      <td>16.8</td>\n",
              "      <td>113</td>\n",
              "      <td>3.85</td>\n",
              "      <td>3.49</td>\n",
              "      <td>0.24</td>\n",
              "      <td>2.18</td>\n",
              "      <td>7.80</td>\n",
              "      <td>0.86</td>\n",
              "      <td>3.45</td>\n",
              "      <td>1480</td>\n",
              "    </tr>\n",
              "  </tbody>\n",
              "</table>\n",
              "</div>"
            ],
            "text/plain": [
              "   Type  Alcohol  Malic   Ash  ...  Color   Hue  Dilution  Proline\n",
              "0     1    14.23   1.71  2.43  ...   5.64  1.04      3.92     1065\n",
              "1     1    13.20   1.78  2.14  ...   4.38  1.05      3.40     1050\n",
              "2     1    13.16   2.36  2.67  ...   5.68  1.03      3.17     1185\n",
              "3     1    14.37   1.95  2.50  ...   7.80  0.86      3.45     1480\n",
              "\n",
              "[4 rows x 14 columns]"
            ]
          },
          "metadata": {
            "tags": []
          },
          "execution_count": 5
        }
      ]
    },
    {
      "cell_type": "code",
      "metadata": {
        "id": "Xx8mmtE7vvBD"
      },
      "source": [
        "Y = data.Type\n",
        "X = data.drop('Type', axis=1)"
      ],
      "execution_count": 6,
      "outputs": []
    },
    {
      "cell_type": "code",
      "metadata": {
        "id": "xarotqqOYQIq",
        "colab": {
          "base_uri": "https://localhost:8080/"
        },
        "outputId": "462b3f31-b35c-4c3c-c298-46bbba19a2b9"
      },
      "source": [
        "\n",
        "#Split your data into training and testing sets using SciKit Learn's train_test_split function from model_selection\n",
        "from sklearn.model_selection import train_test_split \n",
        "x_train,x_test,y_train,y_test = train_test_split(X,Y,test_size=0.2,random_state=5)\n",
        "x_train.shape,y_train.shape,x_test.shape,y_test.shape\n",
        "\n",
        "\n",
        "\n"
      ],
      "execution_count": 18,
      "outputs": [
        {
          "output_type": "execute_result",
          "data": {
            "text/plain": [
              "((142, 13), (142,), (36, 13), (36,))"
            ]
          },
          "metadata": {
            "tags": []
          },
          "execution_count": 18
        }
      ]
    },
    {
      "cell_type": "code",
      "metadata": {
        "id": "-WY9qbrsZNHo"
      },
      "source": [
        "#use the built in standers scalar for standardisation\n",
        "from sklearn.preprocessing import StandardScaler\n",
        "scalar= StandardScaler()\n",
        "x_train_scale = scalar.fit_transform(x_train)\n",
        "x_test_scale = scalar.transform(x_test)\n",
        "\n",
        "\n",
        "\n"
      ],
      "execution_count": 19,
      "outputs": []
    },
    {
      "cell_type": "code",
      "metadata": {
        "id": "ZWOlfR5KypxR"
      },
      "source": [
        "#Train your model using Scikit Learn’s estimator objects\n",
        "# In this step, we will build the neural network model using the scikit-learn library's estimator object, 'Multi-Layer Perceptron Classifier'. \n",
        "# The first line of code (shown below) imports 'MLPClassifier'.\n",
        "\n",
        "from sklearn.neural_network import MLPClassifier\n"
      ],
      "execution_count": 20,
      "outputs": []
    },
    {
      "cell_type": "code",
      "metadata": {
        "id": "gOlcprshXAAK"
      },
      "source": [
        "#Create an instance of the model by defining the hidden_layer_sizes\n",
        "\n",
        "net = MLPClassifier((8,8,6),'relu',max_iter=1000,solver='lbfgs')\n",
        "\n"
      ],
      "execution_count": 21,
      "outputs": []
    },
    {
      "cell_type": "code",
      "metadata": {
        "colab": {
          "base_uri": "https://localhost:8080/"
        },
        "id": "_4r96gzTLhP1",
        "outputId": "d7636483-c114-41e9-9359-01e5d953da43"
      },
      "source": [
        "print(net)\r\n"
      ],
      "execution_count": 11,
      "outputs": [
        {
          "output_type": "stream",
          "text": [
            "MLPClassifier(activation='relu', alpha=0.0001, batch_size='auto', beta_1=0.9,\n",
            "              beta_2=0.999, early_stopping=False, epsilon=1e-08,\n",
            "              hidden_layer_sizes=(6, 8, 6), learning_rate='constant',\n",
            "              learning_rate_init=0.001, max_fun=15000, max_iter=1000,\n",
            "              momentum=0.9, n_iter_no_change=10, nesterovs_momentum=True,\n",
            "              power_t=0.5, random_state=None, shuffle=True, solver='lbfgs',\n",
            "              tol=0.0001, validation_fraction=0.1, verbose=False,\n",
            "              warm_start=False)\n"
          ],
          "name": "stdout"
        }
      ]
    },
    {
      "cell_type": "code",
      "metadata": {
        "id": "Bhfoze7iYTEF"
      },
      "source": [
        "#Fit the training data to your model\n",
        "\n",
        "model = net.fit(x_train_scale,y_train)\n"
      ],
      "execution_count": 22,
      "outputs": []
    },
    {
      "cell_type": "code",
      "metadata": {
        "colab": {
          "base_uri": "https://localhost:8080/"
        },
        "id": "JR10W33ZMgvR",
        "outputId": "b9069e53-fa3e-40d6-9fee-fd5ff82a2ceb"
      },
      "source": [
        "# Extract the MLP weights and biases after training your model\r\n",
        "print(model.coefs_)\r\n"
      ],
      "execution_count": 14,
      "outputs": [
        {
          "output_type": "stream",
          "text": [
            "[array([[-0.02820755,  0.75361386, -0.44774315, -0.82308599,  0.79234969,\n",
            "        -1.17078207],\n",
            "       [ 0.29467699,  0.49531173,  1.20550297,  0.64776653, -0.23672323,\n",
            "        -0.44874673],\n",
            "       [ 0.10246871, -0.22274779, -0.0400729 , -0.75142356,  0.06107952,\n",
            "        -0.92310041],\n",
            "       [ 0.88297409, -1.59062508,  0.8866406 , -0.17897662, -0.98974946,\n",
            "         1.0435987 ],\n",
            "       [-0.41978752, -0.35686449,  0.37547078, -2.05153029,  0.06728524,\n",
            "         0.55134158],\n",
            "       [-1.10380116,  0.04710034, -1.01734396, -1.06701139,  0.93242938,\n",
            "        -0.35680756],\n",
            "       [-0.73224171,  0.21101106, -0.61394129, -0.35613057,  0.48029016,\n",
            "         0.11440706],\n",
            "       [ 0.07463915, -0.41092902, -0.84634035,  0.02840576, -1.16058375,\n",
            "        -0.65334436],\n",
            "       [-0.52218383, -0.37876581, -0.52333937,  0.54494393,  1.22243693,\n",
            "         0.59756198],\n",
            "       [ 1.72713919, -0.21381021,  0.52027415,  0.61349521,  0.37510341,\n",
            "        -0.74601168],\n",
            "       [-1.32649847, -0.19111811, -1.45957047, -0.4309785 ,  0.51352886,\n",
            "         0.44798493],\n",
            "       [-0.40251736,  0.11825126, -1.22958917, -0.28507053,  1.23001763,\n",
            "        -0.11498927],\n",
            "       [-0.57081504, -0.01082819,  0.07238907, -0.25984199,  1.50675814,\n",
            "         0.21699563]]), array([[-0.12111069,  0.98019549, -0.16504462,  2.37160473, -0.65190569,\n",
            "        -0.23969956,  0.79929521,  0.56944074],\n",
            "       [-0.39563641, -0.5181393 ,  0.43725285, -1.31471228,  1.04058291,\n",
            "        -0.07607188, -0.74404671, -0.29932427],\n",
            "       [ 0.59278904, -0.79954491,  0.24924398,  1.0031215 , -0.51057124,\n",
            "        -0.11619569,  0.94488723, -0.03588605],\n",
            "       [-0.35815651,  1.3972203 , -0.38129237,  1.10147331, -0.69110238,\n",
            "        -0.64741727,  2.19525191, -0.57148827],\n",
            "       [-0.55602858,  0.17478624,  1.84483896, -1.9581098 ,  0.94978633,\n",
            "        -0.24935331,  1.5632107 , -0.19874535],\n",
            "       [-0.27367781,  1.98956725, -0.57731635, -0.95229208, -0.97418358,\n",
            "         0.50217689,  1.30813306,  0.16690425]]), array([[ 1.89557116e-01,  1.05993319e-01,  4.81123934e-01,\n",
            "         5.08881831e-01, -5.54774693e-01,  4.80963252e-01],\n",
            "       [-6.27010740e-01,  2.24465411e+00, -2.49240282e-01,\n",
            "        -5.78318294e-01, -7.52511695e-01, -2.50947723e-03],\n",
            "       [-4.77245199e-01,  3.60602869e-01,  1.68436250e-01,\n",
            "         6.65206343e-01, -6.09103000e-01,  4.57414338e-02],\n",
            "       [ 7.65650724e-01,  1.09944366e-01,  3.17650455e-01,\n",
            "        -9.49277899e-02,  2.76837353e+00,  2.91447468e+00],\n",
            "       [-4.39633849e-02, -1.35744973e+00, -1.82986571e-01,\n",
            "         1.63509776e-01, -1.73604114e+00,  5.20998805e-02],\n",
            "       [-1.92553570e-01, -3.34606753e-01, -5.24353799e-01,\n",
            "        -1.33933228e-01, -2.81647012e-01, -5.91187785e-01],\n",
            "       [-4.12403217e-01,  1.52439642e+00, -1.59588477e-02,\n",
            "         2.19996760e+00, -1.38440535e-01, -1.74617707e-04],\n",
            "       [ 1.22494247e-01,  2.57353714e-01,  3.22015563e-01,\n",
            "         5.10207188e-02, -3.74724709e-01, -4.49164086e-01]]), array([[-0.11713241, -0.61981551, -0.64605736],\n",
            "       [-1.40742229,  1.78351002, -1.39163325],\n",
            "       [ 0.15956151, -0.54735389, -0.47640777],\n",
            "       [ 1.85279978, -1.90688183, -0.29652782],\n",
            "       [-2.85567706, -0.1970584 ,  3.49184997],\n",
            "       [ 0.14145672,  0.02931029, -0.73389354]])]\n"
          ],
          "name": "stdout"
        }
      ]
    },
    {
      "cell_type": "code",
      "metadata": {
        "colab": {
          "base_uri": "https://localhost:8080/"
        },
        "id": "-h50beobMVm7",
        "outputId": "ba0086c9-d7cf-40b3-f003-ef897b1439f4"
      },
      "source": [
        "model.intercepts_"
      ],
      "execution_count": 15,
      "outputs": [
        {
          "output_type": "execute_result",
          "data": {
            "text/plain": [
              "[array([0.0049173 , 0.28873022, 0.51400182, 1.52616499, 0.27355421,\n",
              "        1.0227858 ]),\n",
              " array([-0.26871504,  0.81485315, -0.35335398,  0.15676448,  0.49043243,\n",
              "        -0.23430976,  0.73708006, -0.30039924]),\n",
              " array([-0.41905595, -0.30637631, -0.59600343, -0.84001538,  0.13865194,\n",
              "         0.14900287]),\n",
              " array([ 0.78491486,  6.96555276, -7.81915507])]"
            ]
          },
          "metadata": {
            "tags": []
          },
          "execution_count": 15
        }
      ]
    },
    {
      "cell_type": "code",
      "metadata": {
        "id": "76AwOWDKYoS8"
      },
      "source": [
        "#Use predict () method to get predictions\n",
        "\n",
        "y_test_predict=net.predict(x_test_scale)\n"
      ],
      "execution_count": 23,
      "outputs": []
    },
    {
      "cell_type": "code",
      "metadata": {
        "id": "lm211nP3FCME",
        "colab": {
          "base_uri": "https://localhost:8080/"
        },
        "outputId": "bc00be98-2e50-4796-ecc3-e730a71af965"
      },
      "source": [
        "#Use SciKit-Learn's built in metrics to evaluate how well our model performed\n",
        "\n",
        "from sklearn import metrics\n",
        "model_acc = metrics.accuracy_score(y_test,y_test_predict)\n",
        "model_acc"
      ],
      "execution_count": 24,
      "outputs": [
        {
          "output_type": "execute_result",
          "data": {
            "text/plain": [
              "0.9722222222222222"
            ]
          },
          "metadata": {
            "tags": []
          },
          "execution_count": 24
        }
      ]
    },
    {
      "cell_type": "code",
      "metadata": {
        "id": "0NUaIYHJGpxS"
      },
      "source": [
        "# Saving the model:\n",
        "\n",
        "import pickle\n",
        "filename = \"wine.h5\"\n",
        "pickle.dump(net, open(filename, 'wb'))\n"
      ],
      "execution_count": 25,
      "outputs": []
    },
    {
      "cell_type": "code",
      "metadata": {
        "id": "BTINmW9eLPWG"
      },
      "source": [
        "load_net_model =pickle.load(open(\"wine.h5\", 'rb'))"
      ],
      "execution_count": 26,
      "outputs": []
    },
    {
      "cell_type": "code",
      "metadata": {
        "id": "XPPhmaTULYHb",
        "colab": {
          "base_uri": "https://localhost:8080/"
        },
        "outputId": "d8cd414b-693c-41f8-9e8e-47374e4484bc"
      },
      "source": [
        "load_net_model"
      ],
      "execution_count": 27,
      "outputs": [
        {
          "output_type": "execute_result",
          "data": {
            "text/plain": [
              "MLPClassifier(activation='relu', alpha=0.0001, batch_size='auto', beta_1=0.9,\n",
              "              beta_2=0.999, early_stopping=False, epsilon=1e-08,\n",
              "              hidden_layer_sizes=(6, 8, 6), learning_rate='constant',\n",
              "              learning_rate_init=0.001, max_fun=15000, max_iter=1000,\n",
              "              momentum=0.9, n_iter_no_change=10, nesterovs_momentum=True,\n",
              "              power_t=0.5, random_state=None, shuffle=True, solver='lbfgs',\n",
              "              tol=0.0001, validation_fraction=0.1, verbose=False,\n",
              "              warm_start=False)"
            ]
          },
          "metadata": {
            "tags": []
          },
          "execution_count": 27
        }
      ]
    }
  ]
}