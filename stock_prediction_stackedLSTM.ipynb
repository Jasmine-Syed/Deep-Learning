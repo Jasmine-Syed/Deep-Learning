{
  "nbformat": 4,
  "nbformat_minor": 0,
  "metadata": {
    "kernelspec": {
      "display_name": "Python 3",
      "language": "python",
      "name": "python3"
    },
    "language_info": {
      "codemirror_mode": {
        "name": "ipython",
        "version": 3
      },
      "file_extension": ".py",
      "mimetype": "text/x-python",
      "name": "python",
      "nbconvert_exporter": "python",
      "pygments_lexer": "ipython3",
      "version": "3.6.9"
    },
    "colab": {
      "name": "stock_prediction_stackedLSTM.ipynb",
      "provenance": [],
      "include_colab_link": true
    }
  },
  "cells": [
    {
      "cell_type": "markdown",
      "metadata": {
        "id": "view-in-github",
        "colab_type": "text"
      },
      "source": [
        "<a href=\"https://colab.research.google.com/github/Jasmine-Syed/Deep-Learning/blob/main/stock_prediction_stackedLSTM.ipynb\" target=\"_parent\"><img src=\"https://colab.research.google.com/assets/colab-badge.svg\" alt=\"Open In Colab\"/></a>"
      ]
    },
    {
      "cell_type": "markdown",
      "metadata": {
        "id": "zlcN3SATzESl"
      },
      "source": [
        "### Stock Market Prediction And Forecasting Using Stacked LSTM"
      ]
    },
    {
      "cell_type": "code",
      "metadata": {
        "id": "zBA9nJu4zESm"
      },
      "source": [
        "### Keras and Tensorflow >2.0"
      ],
      "execution_count": null,
      "outputs": []
    },
    {
      "cell_type": "code",
      "metadata": {
        "id": "tUQQ58qazESn"
      },
      "source": [
        "### Data Collection\n",
        "# import pandas_datareader as pdr\n",
        "# key=\"\""
      ],
      "execution_count": null,
      "outputs": []
    },
    {
      "cell_type": "code",
      "metadata": {
        "id": "GU8xDKqOzESo"
      },
      "source": [
        "# df = pdr.get_data_tiingo('stocks', api_key=key)"
      ],
      "execution_count": null,
      "outputs": []
    },
    {
      "cell_type": "code",
      "metadata": {
        "id": "wEZeszQjzESo"
      },
      "source": [
        "# df.to_csv('stocks.csv')"
      ],
      "execution_count": null,
      "outputs": []
    },
    {
      "cell_type": "code",
      "metadata": {
        "id": "fJ9c9EWGzESo"
      },
      "source": [
        "import pandas as pd"
      ],
      "execution_count": 1,
      "outputs": []
    },
    {
      "cell_type": "code",
      "metadata": {
        "id": "IKX-_DMszESo"
      },
      "source": [
        "df=pd.read_csv('stocks.csv')"
      ],
      "execution_count": 2,
      "outputs": []
    },
    {
      "cell_type": "code",
      "metadata": {
        "colab": {
          "base_uri": "https://localhost:8080/",
          "height": 305
        },
        "id": "0bInD-0fzESp",
        "outputId": "67057612-8c29-44dc-b120-d827ca9cbe60"
      },
      "source": [
        "df.head()"
      ],
      "execution_count": 3,
      "outputs": [
        {
          "output_type": "execute_result",
          "data": {
            "text/html": [
              "<div>\n",
              "<style scoped>\n",
              "    .dataframe tbody tr th:only-of-type {\n",
              "        vertical-align: middle;\n",
              "    }\n",
              "\n",
              "    .dataframe tbody tr th {\n",
              "        vertical-align: top;\n",
              "    }\n",
              "\n",
              "    .dataframe thead th {\n",
              "        text-align: right;\n",
              "    }\n",
              "</style>\n",
              "<table border=\"1\" class=\"dataframe\">\n",
              "  <thead>\n",
              "    <tr style=\"text-align: right;\">\n",
              "      <th></th>\n",
              "      <th>symbol</th>\n",
              "      <th>date</th>\n",
              "      <th>close</th>\n",
              "      <th>high</th>\n",
              "      <th>low</th>\n",
              "      <th>open</th>\n",
              "      <th>volume</th>\n",
              "      <th>adjClose</th>\n",
              "      <th>adjHigh</th>\n",
              "      <th>adjLow</th>\n",
              "      <th>adjOpen</th>\n",
              "      <th>adjVolume</th>\n",
              "      <th>divCash</th>\n",
              "      <th>splitFactor</th>\n",
              "    </tr>\n",
              "  </thead>\n",
              "  <tbody>\n",
              "    <tr>\n",
              "      <th>0</th>\n",
              "      <td>AAPL</td>\n",
              "      <td>2016-01-19 00:00:00+00:00</td>\n",
              "      <td>96.66</td>\n",
              "      <td>98.6500</td>\n",
              "      <td>95.50</td>\n",
              "      <td>98.41</td>\n",
              "      <td>53087747</td>\n",
              "      <td>22.385352</td>\n",
              "      <td>22.846214</td>\n",
              "      <td>22.116710</td>\n",
              "      <td>22.790632</td>\n",
              "      <td>212350988</td>\n",
              "      <td>0.0</td>\n",
              "      <td>1.0</td>\n",
              "    </tr>\n",
              "    <tr>\n",
              "      <th>1</th>\n",
              "      <td>AAPL</td>\n",
              "      <td>2016-01-20 00:00:00+00:00</td>\n",
              "      <td>96.79</td>\n",
              "      <td>98.1897</td>\n",
              "      <td>93.42</td>\n",
              "      <td>95.10</td>\n",
              "      <td>72334416</td>\n",
              "      <td>22.415459</td>\n",
              "      <td>22.739613</td>\n",
              "      <td>21.635005</td>\n",
              "      <td>22.024074</td>\n",
              "      <td>289337664</td>\n",
              "      <td>0.0</td>\n",
              "      <td>1.0</td>\n",
              "    </tr>\n",
              "    <tr>\n",
              "      <th>2</th>\n",
              "      <td>AAPL</td>\n",
              "      <td>2016-01-21 00:00:00+00:00</td>\n",
              "      <td>96.30</td>\n",
              "      <td>97.8800</td>\n",
              "      <td>94.94</td>\n",
              "      <td>97.06</td>\n",
              "      <td>52161463</td>\n",
              "      <td>22.301980</td>\n",
              "      <td>22.667890</td>\n",
              "      <td>21.987020</td>\n",
              "      <td>22.477988</td>\n",
              "      <td>208645852</td>\n",
              "      <td>0.0</td>\n",
              "      <td>1.0</td>\n",
              "    </tr>\n",
              "    <tr>\n",
              "      <th>3</th>\n",
              "      <td>AAPL</td>\n",
              "      <td>2016-01-22 00:00:00+00:00</td>\n",
              "      <td>101.42</td>\n",
              "      <td>101.4600</td>\n",
              "      <td>98.37</td>\n",
              "      <td>98.63</td>\n",
              "      <td>65800467</td>\n",
              "      <td>23.487714</td>\n",
              "      <td>23.496977</td>\n",
              "      <td>22.781369</td>\n",
              "      <td>22.841582</td>\n",
              "      <td>263201868</td>\n",
              "      <td>0.0</td>\n",
              "      <td>1.0</td>\n",
              "    </tr>\n",
              "    <tr>\n",
              "      <th>4</th>\n",
              "      <td>AAPL</td>\n",
              "      <td>2016-01-25 00:00:00+00:00</td>\n",
              "      <td>99.44</td>\n",
              "      <td>101.5300</td>\n",
              "      <td>99.21</td>\n",
              "      <td>101.52</td>\n",
              "      <td>51794525</td>\n",
              "      <td>23.029169</td>\n",
              "      <td>23.513189</td>\n",
              "      <td>22.975903</td>\n",
              "      <td>23.510873</td>\n",
              "      <td>207178100</td>\n",
              "      <td>0.0</td>\n",
              "      <td>1.0</td>\n",
              "    </tr>\n",
              "  </tbody>\n",
              "</table>\n",
              "</div>"
            ],
            "text/plain": [
              "  symbol                       date   close  ...  adjVolume  divCash  splitFactor\n",
              "0   AAPL  2016-01-19 00:00:00+00:00   96.66  ...  212350988      0.0          1.0\n",
              "1   AAPL  2016-01-20 00:00:00+00:00   96.79  ...  289337664      0.0          1.0\n",
              "2   AAPL  2016-01-21 00:00:00+00:00   96.30  ...  208645852      0.0          1.0\n",
              "3   AAPL  2016-01-22 00:00:00+00:00  101.42  ...  263201868      0.0          1.0\n",
              "4   AAPL  2016-01-25 00:00:00+00:00   99.44  ...  207178100      0.0          1.0\n",
              "\n",
              "[5 rows x 14 columns]"
            ]
          },
          "metadata": {
            "tags": []
          },
          "execution_count": 3
        }
      ]
    },
    {
      "cell_type": "code",
      "metadata": {
        "colab": {
          "base_uri": "https://localhost:8080/",
          "height": 305
        },
        "id": "0zt5KWpFzESq",
        "outputId": "a97f617a-a780-4aed-e08a-326a12d6fb00"
      },
      "source": [
        "df.tail()"
      ],
      "execution_count": 4,
      "outputs": [
        {
          "output_type": "execute_result",
          "data": {
            "text/html": [
              "<div>\n",
              "<style scoped>\n",
              "    .dataframe tbody tr th:only-of-type {\n",
              "        vertical-align: middle;\n",
              "    }\n",
              "\n",
              "    .dataframe tbody tr th {\n",
              "        vertical-align: top;\n",
              "    }\n",
              "\n",
              "    .dataframe thead th {\n",
              "        text-align: right;\n",
              "    }\n",
              "</style>\n",
              "<table border=\"1\" class=\"dataframe\">\n",
              "  <thead>\n",
              "    <tr style=\"text-align: right;\">\n",
              "      <th></th>\n",
              "      <th>symbol</th>\n",
              "      <th>date</th>\n",
              "      <th>close</th>\n",
              "      <th>high</th>\n",
              "      <th>low</th>\n",
              "      <th>open</th>\n",
              "      <th>volume</th>\n",
              "      <th>adjClose</th>\n",
              "      <th>adjHigh</th>\n",
              "      <th>adjLow</th>\n",
              "      <th>adjOpen</th>\n",
              "      <th>adjVolume</th>\n",
              "      <th>divCash</th>\n",
              "      <th>splitFactor</th>\n",
              "    </tr>\n",
              "  </thead>\n",
              "  <tbody>\n",
              "    <tr>\n",
              "      <th>1254</th>\n",
              "      <td>AAPL</td>\n",
              "      <td>2021-01-11 00:00:00+00:00</td>\n",
              "      <td>128.98</td>\n",
              "      <td>130.1700</td>\n",
              "      <td>128.50</td>\n",
              "      <td>129.19</td>\n",
              "      <td>100620880</td>\n",
              "      <td>128.98</td>\n",
              "      <td>130.1700</td>\n",
              "      <td>128.50</td>\n",
              "      <td>129.19</td>\n",
              "      <td>100620880</td>\n",
              "      <td>0.0</td>\n",
              "      <td>1.0</td>\n",
              "    </tr>\n",
              "    <tr>\n",
              "      <th>1255</th>\n",
              "      <td>AAPL</td>\n",
              "      <td>2021-01-12 00:00:00+00:00</td>\n",
              "      <td>128.80</td>\n",
              "      <td>129.6900</td>\n",
              "      <td>126.86</td>\n",
              "      <td>128.50</td>\n",
              "      <td>90440255</td>\n",
              "      <td>128.80</td>\n",
              "      <td>129.6900</td>\n",
              "      <td>126.86</td>\n",
              "      <td>128.50</td>\n",
              "      <td>90440255</td>\n",
              "      <td>0.0</td>\n",
              "      <td>1.0</td>\n",
              "    </tr>\n",
              "    <tr>\n",
              "      <th>1256</th>\n",
              "      <td>AAPL</td>\n",
              "      <td>2021-01-13 00:00:00+00:00</td>\n",
              "      <td>130.89</td>\n",
              "      <td>131.4500</td>\n",
              "      <td>128.49</td>\n",
              "      <td>128.76</td>\n",
              "      <td>88636831</td>\n",
              "      <td>130.89</td>\n",
              "      <td>131.4500</td>\n",
              "      <td>128.49</td>\n",
              "      <td>128.76</td>\n",
              "      <td>88636831</td>\n",
              "      <td>0.0</td>\n",
              "      <td>1.0</td>\n",
              "    </tr>\n",
              "    <tr>\n",
              "      <th>1257</th>\n",
              "      <td>AAPL</td>\n",
              "      <td>2021-01-14 00:00:00+00:00</td>\n",
              "      <td>128.91</td>\n",
              "      <td>131.0000</td>\n",
              "      <td>128.76</td>\n",
              "      <td>130.80</td>\n",
              "      <td>90221755</td>\n",
              "      <td>128.91</td>\n",
              "      <td>131.0000</td>\n",
              "      <td>128.76</td>\n",
              "      <td>130.80</td>\n",
              "      <td>90221755</td>\n",
              "      <td>0.0</td>\n",
              "      <td>1.0</td>\n",
              "    </tr>\n",
              "    <tr>\n",
              "      <th>1258</th>\n",
              "      <td>AAPL</td>\n",
              "      <td>2021-01-15 00:00:00+00:00</td>\n",
              "      <td>127.14</td>\n",
              "      <td>130.2242</td>\n",
              "      <td>127.00</td>\n",
              "      <td>128.78</td>\n",
              "      <td>111598531</td>\n",
              "      <td>127.14</td>\n",
              "      <td>130.2242</td>\n",
              "      <td>127.00</td>\n",
              "      <td>128.78</td>\n",
              "      <td>111598531</td>\n",
              "      <td>0.0</td>\n",
              "      <td>1.0</td>\n",
              "    </tr>\n",
              "  </tbody>\n",
              "</table>\n",
              "</div>"
            ],
            "text/plain": [
              "     symbol                       date   close  ...  adjVolume  divCash  splitFactor\n",
              "1254   AAPL  2021-01-11 00:00:00+00:00  128.98  ...  100620880      0.0          1.0\n",
              "1255   AAPL  2021-01-12 00:00:00+00:00  128.80  ...   90440255      0.0          1.0\n",
              "1256   AAPL  2021-01-13 00:00:00+00:00  130.89  ...   88636831      0.0          1.0\n",
              "1257   AAPL  2021-01-14 00:00:00+00:00  128.91  ...   90221755      0.0          1.0\n",
              "1258   AAPL  2021-01-15 00:00:00+00:00  127.14  ...  111598531      0.0          1.0\n",
              "\n",
              "[5 rows x 14 columns]"
            ]
          },
          "metadata": {
            "tags": []
          },
          "execution_count": 4
        }
      ]
    },
    {
      "cell_type": "code",
      "metadata": {
        "id": "L3JmBdm2zESq"
      },
      "source": [
        "df1=df.reset_index()['close']"
      ],
      "execution_count": 31,
      "outputs": []
    },
    {
      "cell_type": "code",
      "metadata": {
        "colab": {
          "base_uri": "https://localhost:8080/"
        },
        "id": "7BY0CCCVzESq",
        "outputId": "f99eaf31-2a21-4c3a-d45a-7e0bbc8bfb89"
      },
      "source": [
        "df1"
      ],
      "execution_count": 6,
      "outputs": [
        {
          "output_type": "execute_result",
          "data": {
            "text/plain": [
              "0        96.66\n",
              "1        96.79\n",
              "2        96.30\n",
              "3       101.42\n",
              "4        99.44\n",
              "         ...  \n",
              "1254    128.98\n",
              "1255    128.80\n",
              "1256    130.89\n",
              "1257    128.91\n",
              "1258    127.14\n",
              "Name: close, Length: 1259, dtype: float64"
            ]
          },
          "metadata": {
            "tags": []
          },
          "execution_count": 6
        }
      ]
    },
    {
      "cell_type": "code",
      "metadata": {
        "colab": {
          "base_uri": "https://localhost:8080/",
          "height": 283
        },
        "id": "iVCteLZVzESr",
        "outputId": "9746e63b-b43b-4928-b0d3-1eab88c5ac97"
      },
      "source": [
        "import matplotlib.pyplot as plt\n",
        "plt.plot(df1)"
      ],
      "execution_count": 7,
      "outputs": [
        {
          "output_type": "execute_result",
          "data": {
            "text/plain": [
              "[<matplotlib.lines.Line2D at 0x7fe3a27fbb00>]"
            ]
          },
          "metadata": {
            "tags": []
          },
          "execution_count": 7
        },
        {
          "output_type": "display_data",
          "data": {
            "image/png": "[encoded data removed]",
            "text/plain": [
              "<Figure size 432x288 with 1 Axes>"
            ]
          },
          "metadata": {
            "tags": [],
            "needs_background": "light"
          }
        }
      ]
    },
    {
      "cell_type": "code",
      "metadata": {
        "id": "XhCsK-ZBzESr"
      },
      "source": [
        "### LSTM are sensitive to the scale of the data. so we apply MinMax scaler "
      ],
      "execution_count": null,
      "outputs": []
    },
    {
      "cell_type": "code",
      "metadata": {
        "id": "p9UfSu6yzESr"
      },
      "source": [
        "import numpy as np"
      ],
      "execution_count": 8,
      "outputs": []
    },
    {
      "cell_type": "code",
      "metadata": {
        "id": "Ng-WBlStzESs"
      },
      "source": [
        "from sklearn.preprocessing import MinMaxScaler\n",
        "scaler=MinMaxScaler(feature_range=(0,1))\n",
        "df1=scaler.fit_transform(np.array(df1).reshape(-1,1))"
      ],
      "execution_count": 32,
      "outputs": []
    },
    {
      "cell_type": "code",
      "metadata": {
        "colab": {
          "base_uri": "https://localhost:8080/"
        },
        "id": "fKh-Gv02zESs",
        "outputId": "8cb1716b-195b-41ba-c2ce-75508fd0c46d"
      },
      "source": [
        "print(df1[:10])"
      ],
      "execution_count": 10,
      "outputs": [
        {
          "output_type": "stream",
          "text": [
            "[[0.01520144]\n",
            " [0.01551413]\n",
            " [0.01433554]\n",
            " [0.02665063]\n",
            " [0.02188815]\n",
            " [0.02321106]\n",
            " [0.0074083 ]\n",
            " [0.00901984]\n",
            " [0.01683704]\n",
            " [0.01464823]]\n"
          ],
          "name": "stdout"
        }
      ]
    },
    {
      "cell_type": "code",
      "metadata": {
        "id": "bskD0IDIzESs"
      },
      "source": [
        "##splitting dataset into train and test split\n",
        "training_size=int(len(df1)*0.65)\n",
        "test_size=len(df1)-training_size\n",
        "train_data,test_data=df1[0:training_size,:],df1[training_size:len(df1),:1]"
      ],
      "execution_count": 33,
      "outputs": []
    },
    {
      "cell_type": "code",
      "metadata": {
        "colab": {
          "base_uri": "https://localhost:8080/"
        },
        "id": "SfdFp_xZzESs",
        "outputId": "7d589507-f51d-4cba-fe8f-e8a52f94584e"
      },
      "source": [
        "training_size,test_size"
      ],
      "execution_count": 34,
      "outputs": [
        {
          "output_type": "execute_result",
          "data": {
            "text/plain": [
              "(818, 441)"
            ]
          },
          "metadata": {
            "tags": []
          },
          "execution_count": 34
        }
      ]
    },
    {
      "cell_type": "code",
      "metadata": {
        "colab": {
          "base_uri": "https://localhost:8080/"
        },
        "id": "1FDxq1RUzESt",
        "outputId": "588cda65-fee4-43a9-b484-c928faaab623"
      },
      "source": [
        "train_data.shape,test_data.shape"
      ],
      "execution_count": 35,
      "outputs": [
        {
          "output_type": "execute_result",
          "data": {
            "text/plain": [
              "((818, 1), (441, 1))"
            ]
          },
          "metadata": {
            "tags": []
          },
          "execution_count": 35
        }
      ]
    },
    {
      "cell_type": "code",
      "metadata": {
        "id": "3sFeMibkzESt"
      },
      "source": [
        "import numpy\n",
        "# convert an array of values into a dataset matrix\n",
        "def create_dataset(dataset, time_step=1):\n",
        "\tdataX, dataY = [], []\n",
        "\tfor i in range(len(dataset)-time_step-1):\n",
        "\t\ta = dataset[i:(i+time_step), 0]   ###i=0, 0,1,2,3-----99   100 \n",
        "\t\tdataX.append(a)\n",
        "\t\tdataY.append(dataset[i + time_step, 0])\n",
        "\treturn numpy.array(dataX), numpy.array(dataY)"
      ],
      "execution_count": 36,
      "outputs": []
    },
    {
      "cell_type": "code",
      "metadata": {
        "id": "mYi5yplCzESt"
      },
      "source": [
        "# reshape into X=t,t+1,t+2,t+3 and Y=t+4\n",
        "time_step = 100\n",
        "X_train, y_train = create_dataset(train_data, time_step)\n",
        "X_test, ytest = create_dataset(test_data, time_step)"
      ],
      "execution_count": 37,
      "outputs": []
    },
    {
      "cell_type": "code",
      "metadata": {
        "colab": {
          "base_uri": "https://localhost:8080/"
        },
        "id": "4tF-EtFJzESt",
        "outputId": "7aef499e-9020-43bf-c19c-fdb2dc732e92"
      },
      "source": [
        "print(X_train.shape), print(y_train.shape)"
      ],
      "execution_count": 38,
      "outputs": [
        {
          "output_type": "stream",
          "text": [
            "(717, 100)\n",
            "(717,)\n"
          ],
          "name": "stdout"
        },
        {
          "output_type": "execute_result",
          "data": {
            "text/plain": [
              "(None, None)"
            ]
          },
          "metadata": {
            "tags": []
          },
          "execution_count": 38
        }
      ]
    },
    {
      "cell_type": "code",
      "metadata": {
        "colab": {
          "base_uri": "https://localhost:8080/"
        },
        "id": "a2REu9NpzESu",
        "outputId": "c3daa5d1-7eda-4978-be15-17bc734ed449"
      },
      "source": [
        "print(X_test.shape), print(ytest.shape)"
      ],
      "execution_count": 17,
      "outputs": [
        {
          "output_type": "stream",
          "text": [
            "(340, 100)\n",
            "(340,)\n"
          ],
          "name": "stdout"
        },
        {
          "output_type": "execute_result",
          "data": {
            "text/plain": [
              "(None, None)"
            ]
          },
          "metadata": {
            "tags": []
          },
          "execution_count": 17
        }
      ]
    },
    {
      "cell_type": "code",
      "metadata": {
        "id": "duNBa3JvzESu"
      },
      "source": [
        "# reshape input to be [samples, time steps, features] which is required for LSTM\n",
        "X_train =X_train.reshape(X_train.shape[0],X_train.shape[1] , 1)\n",
        "X_test = X_test.reshape(X_test.shape[0],X_test.shape[1] , 1)"
      ],
      "execution_count": 39,
      "outputs": []
    },
    {
      "cell_type": "code",
      "metadata": {
        "id": "hYV87AO6zESu"
      },
      "source": [
        "### Create the Stacked LSTM model\n",
        "from tensorflow.keras.models import Sequential\n",
        "from tensorflow.keras.layers import Dense\n",
        "from tensorflow.keras.layers import LSTM"
      ],
      "execution_count": 19,
      "outputs": []
    },
    {
      "cell_type": "code",
      "metadata": {
        "id": "RymGhzbozESu"
      },
      "source": [
        "model=Sequential()\n",
        "model.add(LSTM(50,return_sequences=True,input_shape=(100,1)))\n",
        "model.add(LSTM(50,return_sequences=True))\n",
        "model.add(LSTM(50))\n",
        "model.add(Dense(1))\n",
        "model.compile(loss='mean_squared_error',optimizer='adam')\n"
      ],
      "execution_count": 20,
      "outputs": []
    },
    {
      "cell_type": "code",
      "metadata": {
        "colab": {
          "base_uri": "https://localhost:8080/"
        },
        "id": "TCF40MNtzESv",
        "outputId": "52f153e7-a88d-46a2-be0c-4325a11d6645"
      },
      "source": [
        "model.summary()"
      ],
      "execution_count": 21,
      "outputs": [
        {
          "output_type": "stream",
          "text": [
            "Model: \"sequential\"\n",
            "_________________________________________________________________\n",
            "Layer (type)                 Output Shape              Param #   \n",
            "=================================================================\n",
            "lstm (LSTM)                  (None, 100, 50)           10400     \n",
            "_________________________________________________________________\n",
            "lstm_1 (LSTM)                (None, 100, 50)           20200     \n",
            "_________________________________________________________________\n",
            "lstm_2 (LSTM)                (None, 50)                20200     \n",
            "_________________________________________________________________\n",
            "dense (Dense)                (None, 1)                 51        \n",
            "=================================================================\n",
            "Total params: 50,851\n",
            "Trainable params: 50,851\n",
            "Non-trainable params: 0\n",
            "_________________________________________________________________\n"
          ],
          "name": "stdout"
        }
      ]
    },
    {
      "cell_type": "code",
      "metadata": {
        "colab": {
          "base_uri": "https://localhost:8080/"
        },
        "id": "8DhGkkrHzESv",
        "outputId": "5787260e-e0bc-459b-e2df-a0f05529248f"
      },
      "source": [
        "model.fit(X_train,y_train,validation_data=(X_test,ytest),epochs=100,batch_size=64,verbose=1)"
      ],
      "execution_count": 23,
      "outputs": [
        {
          "output_type": "stream",
          "text": [
            "Epoch 1/100\n",
            "12/12 [==============================] - 8s 297ms/step - loss: 0.0162 - val_loss: 0.0519\n",
            "Epoch 2/100\n",
            "12/12 [==============================] - 2s 192ms/step - loss: 0.0024 - val_loss: 0.0221\n",
            "Epoch 3/100\n",
            "12/12 [==============================] - 2s 191ms/step - loss: 9.3453e-04 - val_loss: 0.0201\n",
            "Epoch 4/100\n",
            "12/12 [==============================] - 2s 202ms/step - loss: 4.1177e-04 - val_loss: 0.0211\n",
            "Epoch 5/100\n",
            "12/12 [==============================] - 3s 233ms/step - loss: 3.9012e-04 - val_loss: 0.0191\n",
            "Epoch 6/100\n",
            "12/12 [==============================] - 3s 225ms/step - loss: 3.5410e-04 - val_loss: 0.0186\n",
            "Epoch 7/100\n",
            "12/12 [==============================] - 3s 238ms/step - loss: 3.5937e-04 - val_loss: 0.0181\n",
            "Epoch 8/100\n",
            "12/12 [==============================] - 3s 220ms/step - loss: 3.5862e-04 - val_loss: 0.0176\n",
            "Epoch 9/100\n",
            "12/12 [==============================] - 3s 224ms/step - loss: 2.9234e-04 - val_loss: 0.0172\n",
            "Epoch 10/100\n",
            "12/12 [==============================] - 3s 226ms/step - loss: 2.8009e-04 - val_loss: 0.0167\n",
            "Epoch 11/100\n",
            "12/12 [==============================] - 3s 225ms/step - loss: 2.9060e-04 - val_loss: 0.0168\n",
            "Epoch 12/100\n",
            "12/12 [==============================] - 3s 230ms/step - loss: 3.1635e-04 - val_loss: 0.0158\n",
            "Epoch 13/100\n",
            "12/12 [==============================] - 3s 229ms/step - loss: 2.7055e-04 - val_loss: 0.0150\n",
            "Epoch 14/100\n",
            "12/12 [==============================] - 3s 222ms/step - loss: 2.4421e-04 - val_loss: 0.0145\n",
            "Epoch 15/100\n",
            "12/12 [==============================] - 3s 235ms/step - loss: 2.5191e-04 - val_loss: 0.0152\n",
            "Epoch 16/100\n",
            "12/12 [==============================] - 3s 237ms/step - loss: 2.5484e-04 - val_loss: 0.0135\n",
            "Epoch 17/100\n",
            "12/12 [==============================] - 3s 230ms/step - loss: 2.7940e-04 - val_loss: 0.0145\n",
            "Epoch 18/100\n",
            "12/12 [==============================] - 3s 233ms/step - loss: 2.6116e-04 - val_loss: 0.0156\n",
            "Epoch 19/100\n",
            "12/12 [==============================] - 3s 242ms/step - loss: 2.1712e-04 - val_loss: 0.0131\n",
            "Epoch 20/100\n",
            "12/12 [==============================] - 3s 237ms/step - loss: 2.3159e-04 - val_loss: 0.0167\n",
            "Epoch 21/100\n",
            "12/12 [==============================] - 3s 227ms/step - loss: 2.6913e-04 - val_loss: 0.0148\n",
            "Epoch 22/100\n",
            "12/12 [==============================] - 3s 283ms/step - loss: 2.2122e-04 - val_loss: 0.0135\n",
            "Epoch 23/100\n",
            "12/12 [==============================] - 3s 254ms/step - loss: 2.1204e-04 - val_loss: 0.0166\n",
            "Epoch 24/100\n",
            "12/12 [==============================] - 3s 226ms/step - loss: 1.8375e-04 - val_loss: 0.0162\n",
            "Epoch 25/100\n",
            "12/12 [==============================] - 3s 235ms/step - loss: 1.9473e-04 - val_loss: 0.0176\n",
            "Epoch 26/100\n",
            "12/12 [==============================] - 3s 230ms/step - loss: 1.7244e-04 - val_loss: 0.0182\n",
            "Epoch 27/100\n",
            "12/12 [==============================] - 4s 316ms/step - loss: 1.8619e-04 - val_loss: 0.0162\n",
            "Epoch 28/100\n",
            "12/12 [==============================] - 3s 276ms/step - loss: 1.8280e-04 - val_loss: 0.0178\n",
            "Epoch 29/100\n",
            "12/12 [==============================] - 3s 258ms/step - loss: 1.6912e-04 - val_loss: 0.0167\n",
            "Epoch 30/100\n",
            "12/12 [==============================] - 3s 252ms/step - loss: 1.7391e-04 - val_loss: 0.0161\n",
            "Epoch 31/100\n",
            "12/12 [==============================] - 3s 252ms/step - loss: 1.9686e-04 - val_loss: 0.0172\n",
            "Epoch 32/100\n",
            "12/12 [==============================] - 3s 245ms/step - loss: 1.8291e-04 - val_loss: 0.0158\n",
            "Epoch 33/100\n",
            "12/12 [==============================] - 3s 255ms/step - loss: 1.6650e-04 - val_loss: 0.0163\n",
            "Epoch 34/100\n",
            "12/12 [==============================] - 3s 251ms/step - loss: 1.5709e-04 - val_loss: 0.0190\n",
            "Epoch 35/100\n",
            "12/12 [==============================] - 3s 233ms/step - loss: 1.6644e-04 - val_loss: 0.0198\n",
            "Epoch 36/100\n",
            "12/12 [==============================] - 3s 265ms/step - loss: 1.5980e-04 - val_loss: 0.0192\n",
            "Epoch 37/100\n",
            "12/12 [==============================] - 3s 231ms/step - loss: 1.9374e-04 - val_loss: 0.0148\n",
            "Epoch 38/100\n",
            "12/12 [==============================] - 3s 223ms/step - loss: 2.0735e-04 - val_loss: 0.0194\n",
            "Epoch 39/100\n",
            "12/12 [==============================] - 3s 215ms/step - loss: 1.7108e-04 - val_loss: 0.0172\n",
            "Epoch 40/100\n",
            "12/12 [==============================] - 2s 202ms/step - loss: 1.6549e-04 - val_loss: 0.0192\n",
            "Epoch 41/100\n",
            "12/12 [==============================] - 2s 204ms/step - loss: 1.5900e-04 - val_loss: 0.0216\n",
            "Epoch 42/100\n",
            "12/12 [==============================] - 2s 201ms/step - loss: 1.9709e-04 - val_loss: 0.0202\n",
            "Epoch 43/100\n",
            "12/12 [==============================] - 2s 203ms/step - loss: 1.9654e-04 - val_loss: 0.0203\n",
            "Epoch 44/100\n",
            "12/12 [==============================] - 2s 201ms/step - loss: 1.9465e-04 - val_loss: 0.0181\n",
            "Epoch 45/100\n",
            "12/12 [==============================] - 2s 198ms/step - loss: 1.5205e-04 - val_loss: 0.0239\n",
            "Epoch 46/100\n",
            "12/12 [==============================] - 2s 202ms/step - loss: 1.3897e-04 - val_loss: 0.0184\n",
            "Epoch 47/100\n",
            "12/12 [==============================] - 2s 198ms/step - loss: 1.5932e-04 - val_loss: 0.0266\n",
            "Epoch 48/100\n",
            "12/12 [==============================] - 2s 200ms/step - loss: 1.7945e-04 - val_loss: 0.0250\n",
            "Epoch 49/100\n",
            "12/12 [==============================] - 2s 201ms/step - loss: 1.4298e-04 - val_loss: 0.0219\n",
            "Epoch 50/100\n",
            "12/12 [==============================] - 2s 198ms/step - loss: 1.6521e-04 - val_loss: 0.0215\n",
            "Epoch 51/100\n",
            "12/12 [==============================] - 3s 211ms/step - loss: 1.5673e-04 - val_loss: 0.0206\n",
            "Epoch 52/100\n",
            "12/12 [==============================] - 3s 210ms/step - loss: 1.5892e-04 - val_loss: 0.0228\n",
            "Epoch 53/100\n",
            "12/12 [==============================] - 2s 205ms/step - loss: 1.6234e-04 - val_loss: 0.0193\n",
            "Epoch 54/100\n",
            "12/12 [==============================] - 2s 203ms/step - loss: 1.4776e-04 - val_loss: 0.0292\n",
            "Epoch 55/100\n",
            "12/12 [==============================] - 2s 205ms/step - loss: 1.6182e-04 - val_loss: 0.0218\n",
            "Epoch 56/100\n",
            "12/12 [==============================] - 3s 234ms/step - loss: 1.7806e-04 - val_loss: 0.0246\n",
            "Epoch 57/100\n",
            "12/12 [==============================] - 3s 230ms/step - loss: 1.4460e-04 - val_loss: 0.0255\n",
            "Epoch 58/100\n",
            "12/12 [==============================] - 3s 229ms/step - loss: 1.3603e-04 - val_loss: 0.0288\n",
            "Epoch 59/100\n",
            "12/12 [==============================] - 3s 231ms/step - loss: 1.5694e-04 - val_loss: 0.0252\n",
            "Epoch 60/100\n",
            "12/12 [==============================] - 3s 233ms/step - loss: 1.3082e-04 - val_loss: 0.0287\n",
            "Epoch 61/100\n",
            "12/12 [==============================] - 3s 225ms/step - loss: 1.3678e-04 - val_loss: 0.0300\n",
            "Epoch 62/100\n",
            "12/12 [==============================] - 3s 228ms/step - loss: 1.4268e-04 - val_loss: 0.0263\n",
            "Epoch 63/100\n",
            "12/12 [==============================] - 3s 227ms/step - loss: 1.3350e-04 - val_loss: 0.0271\n",
            "Epoch 64/100\n",
            "12/12 [==============================] - 3s 226ms/step - loss: 1.3252e-04 - val_loss: 0.0288\n",
            "Epoch 65/100\n",
            "12/12 [==============================] - 3s 227ms/step - loss: 1.4489e-04 - val_loss: 0.0239\n",
            "Epoch 66/100\n",
            "12/12 [==============================] - 3s 230ms/step - loss: 1.2960e-04 - val_loss: 0.0267\n",
            "Epoch 67/100\n",
            "12/12 [==============================] - 3s 231ms/step - loss: 1.2166e-04 - val_loss: 0.0298\n",
            "Epoch 68/100\n",
            "12/12 [==============================] - 3s 226ms/step - loss: 1.2722e-04 - val_loss: 0.0252\n",
            "Epoch 69/100\n",
            "12/12 [==============================] - 3s 240ms/step - loss: 1.3542e-04 - val_loss: 0.0313\n",
            "Epoch 70/100\n",
            "12/12 [==============================] - 3s 239ms/step - loss: 1.4053e-04 - val_loss: 0.0320\n",
            "Epoch 71/100\n",
            "12/12 [==============================] - 3s 243ms/step - loss: 1.3220e-04 - val_loss: 0.0235\n",
            "Epoch 72/100\n",
            "12/12 [==============================] - 3s 236ms/step - loss: 1.2652e-04 - val_loss: 0.0221\n",
            "Epoch 73/100\n",
            "12/12 [==============================] - 3s 239ms/step - loss: 1.1762e-04 - val_loss: 0.0292\n",
            "Epoch 74/100\n",
            "12/12 [==============================] - 3s 225ms/step - loss: 1.2763e-04 - val_loss: 0.0274\n",
            "Epoch 75/100\n",
            "12/12 [==============================] - 3s 243ms/step - loss: 1.2442e-04 - val_loss: 0.0291\n",
            "Epoch 76/100\n",
            "12/12 [==============================] - 3s 227ms/step - loss: 1.2883e-04 - val_loss: 0.0288\n",
            "Epoch 77/100\n",
            "12/12 [==============================] - 3s 231ms/step - loss: 1.1308e-04 - val_loss: 0.0271\n",
            "Epoch 78/100\n",
            "12/12 [==============================] - 3s 230ms/step - loss: 1.3634e-04 - val_loss: 0.0177\n",
            "Epoch 79/100\n",
            "12/12 [==============================] - 3s 257ms/step - loss: 1.4211e-04 - val_loss: 0.0197\n",
            "Epoch 80/100\n",
            "12/12 [==============================] - 3s 271ms/step - loss: 1.1958e-04 - val_loss: 0.0265\n",
            "Epoch 81/100\n",
            "12/12 [==============================] - 3s 237ms/step - loss: 1.3516e-04 - val_loss: 0.0233\n",
            "Epoch 82/100\n",
            "12/12 [==============================] - 3s 244ms/step - loss: 1.2751e-04 - val_loss: 0.0158\n",
            "Epoch 83/100\n",
            "12/12 [==============================] - 3s 234ms/step - loss: 1.4434e-04 - val_loss: 0.0154\n",
            "Epoch 84/100\n",
            "12/12 [==============================] - 3s 240ms/step - loss: 1.2520e-04 - val_loss: 0.0297\n",
            "Epoch 85/100\n",
            "12/12 [==============================] - 3s 232ms/step - loss: 1.2427e-04 - val_loss: 0.0169\n",
            "Epoch 86/100\n",
            "12/12 [==============================] - 3s 233ms/step - loss: 1.2541e-04 - val_loss: 0.0149\n",
            "Epoch 87/100\n",
            "12/12 [==============================] - 3s 236ms/step - loss: 1.1452e-04 - val_loss: 0.0166\n",
            "Epoch 88/100\n",
            "12/12 [==============================] - 3s 247ms/step - loss: 1.2350e-04 - val_loss: 0.0130\n",
            "Epoch 89/100\n",
            "12/12 [==============================] - 3s 225ms/step - loss: 1.3270e-04 - val_loss: 0.0174\n",
            "Epoch 90/100\n",
            "12/12 [==============================] - 3s 249ms/step - loss: 1.1014e-04 - val_loss: 0.0171\n",
            "Epoch 91/100\n",
            "12/12 [==============================] - 3s 220ms/step - loss: 1.4308e-04 - val_loss: 0.0138\n",
            "Epoch 92/100\n",
            "12/12 [==============================] - 3s 219ms/step - loss: 1.1921e-04 - val_loss: 0.0142\n",
            "Epoch 93/100\n",
            "12/12 [==============================] - 2s 204ms/step - loss: 1.2988e-04 - val_loss: 0.0095\n",
            "Epoch 94/100\n",
            "12/12 [==============================] - 2s 203ms/step - loss: 1.2730e-04 - val_loss: 0.0088\n",
            "Epoch 95/100\n",
            "12/12 [==============================] - 2s 202ms/step - loss: 1.1010e-04 - val_loss: 0.0119\n",
            "Epoch 96/100\n",
            "12/12 [==============================] - 2s 204ms/step - loss: 1.1271e-04 - val_loss: 0.0117\n",
            "Epoch 97/100\n",
            "12/12 [==============================] - 2s 205ms/step - loss: 1.1584e-04 - val_loss: 0.0128\n",
            "Epoch 98/100\n",
            "12/12 [==============================] - 2s 200ms/step - loss: 1.2117e-04 - val_loss: 0.0106\n",
            "Epoch 99/100\n",
            "12/12 [==============================] - 2s 202ms/step - loss: 1.0938e-04 - val_loss: 0.0120\n",
            "Epoch 100/100\n",
            "12/12 [==============================] - 2s 201ms/step - loss: 9.2848e-05 - val_loss: 0.0128\n"
          ],
          "name": "stdout"
        },
        {
          "output_type": "execute_result",
          "data": {
            "text/plain": [
              "<tensorflow.python.keras.callbacks.History at 0x7fe356563390>"
            ]
          },
          "metadata": {
            "tags": []
          },
          "execution_count": 23
        }
      ]
    },
    {
      "cell_type": "code",
      "metadata": {
        "id": "cmhAfxWwzESv"
      },
      "source": [
        "import tensorflow as tf"
      ],
      "execution_count": 24,
      "outputs": []
    },
    {
      "cell_type": "code",
      "metadata": {
        "colab": {
          "base_uri": "https://localhost:8080/",
          "height": 35
        },
        "id": "k9MTJvAczESw",
        "outputId": "55b08fca-e8af-41c3-dcf6-2f562622e5c4"
      },
      "source": [
        "tf.__version__"
      ],
      "execution_count": 25,
      "outputs": [
        {
          "output_type": "execute_result",
          "data": {
            "application/vnd.google.colaboratory.intrinsic+json": {
              "type": "string"
            },
            "text/plain": [
              "'2.4.0'"
            ]
          },
          "metadata": {
            "tags": []
          },
          "execution_count": 25
        }
      ]
    },
    {
      "cell_type": "code",
      "metadata": {
        "id": "w8QzLyRszESw"
      },
      "source": [
        "### Lets Do the prediction and check performance metrics\n",
        "train_predict=model.predict(X_train)\n",
        "test_predict=model.predict(X_test)"
      ],
      "execution_count": 40,
      "outputs": []
    },
    {
      "cell_type": "code",
      "metadata": {
        "id": "e4809MwqzESw"
      },
      "source": [
        "##Transformback to original form\n",
        "train_predict = scaler.inverse_transform(train_predict)\n",
        "test_predict = scaler.inverse_transform(test_predict)\n",
        "y_train = scaler.inverse_transform(y_train.reshape(-1,1))\n",
        "ytest = scaler.inverse_transform(ytest.reshape(-1,1))"
      ],
      "execution_count": 41,
      "outputs": []
    },
    {
      "cell_type": "code",
      "metadata": {
        "colab": {
          "base_uri": "https://localhost:8080/"
        },
        "id": "MPWczySuzESw",
        "outputId": "25b2b494-562c-49ea-f42d-167a3c098bd5"
      },
      "source": [
        "### Calculate RMSE performance metrics\n",
        "import math\n",
        "from sklearn.metrics import mean_squared_error\n",
        "math.sqrt(mean_squared_error(y_train,train_predict))"
      ],
      "execution_count": 42,
      "outputs": [
        {
          "output_type": "execute_result",
          "data": {
            "text/plain": [
              "4.092964769356848"
            ]
          },
          "metadata": {
            "tags": []
          },
          "execution_count": 42
        }
      ]
    },
    {
      "cell_type": "code",
      "metadata": {
        "colab": {
          "base_uri": "https://localhost:8080/"
        },
        "id": "RQQRUqmBzESw",
        "outputId": "9a3d166f-3b87-4904-9ba7-06dcb187cf41"
      },
      "source": [
        "### Test Data RMSE\n",
        "math.sqrt(mean_squared_error(ytest,test_predict))"
      ],
      "execution_count": 43,
      "outputs": [
        {
          "output_type": "execute_result",
          "data": {
            "text/plain": [
              "47.08296420757707"
            ]
          },
          "metadata": {
            "tags": []
          },
          "execution_count": 43
        }
      ]
    },
    {
      "cell_type": "code",
      "metadata": {
        "colab": {
          "base_uri": "https://localhost:8080/",
          "height": 265
        },
        "id": "Izv_XpigzESx",
        "outputId": "c3a97c7b-2b12-4431-eaca-1ac4584e24fa"
      },
      "source": [
        "### Plotting \n",
        "# shift train predictions for plotting\n",
        "look_back=100\n",
        "trainPredictPlot = numpy.empty_like(df1)\n",
        "trainPredictPlot[:, :] = np.nan\n",
        "trainPredictPlot[look_back:len(train_predict)+look_back, :] = train_predict\n",
        "# shift test predictions for plotting\n",
        "testPredictPlot = numpy.empty_like(df1)\n",
        "testPredictPlot[:, :] = numpy.nan\n",
        "testPredictPlot[len(train_predict)+(look_back*2)+1:len(df1)-1, :] = test_predict\n",
        "# plot baseline and predictions\n",
        "plt.plot(scaler.inverse_transform(df1))\n",
        "plt.plot(trainPredictPlot)\n",
        "plt.plot(testPredictPlot)\n",
        "plt.show()"
      ],
      "execution_count": 44,
      "outputs": [
        {
          "output_type": "display_data",
          "data": {
            "image/png": "[encoded data removed]",
            "text/plain": [
              "<Figure size 432x288 with 1 Axes>"
            ]
          },
          "metadata": {
            "tags": [],
            "needs_background": "light"
          }
        }
      ]
    },
    {
      "cell_type": "code",
      "metadata": {
        "colab": {
          "base_uri": "https://localhost:8080/"
        },
        "id": "TXKEqbHWzESx",
        "outputId": "8ad8551f-1a06-41d1-aab1-4ef62cee2b61"
      },
      "source": [
        "len(test_data)"
      ],
      "execution_count": 45,
      "outputs": [
        {
          "output_type": "execute_result",
          "data": {
            "text/plain": [
              "441"
            ]
          },
          "metadata": {
            "tags": []
          },
          "execution_count": 45
        }
      ]
    },
    {
      "cell_type": "code",
      "metadata": {
        "colab": {
          "base_uri": "https://localhost:8080/"
        },
        "id": "ZcEEk9pFzESx",
        "outputId": "5067adcf-66b4-4c83-e55e-290e898a0820"
      },
      "source": [
        "x_input=test_data[341:].reshape(1,-1)\n",
        "x_input.shape\n"
      ],
      "execution_count": 46,
      "outputs": [
        {
          "output_type": "execute_result",
          "data": {
            "text/plain": [
              "(1, 100)"
            ]
          },
          "metadata": {
            "tags": []
          },
          "execution_count": 46
        }
      ]
    },
    {
      "cell_type": "code",
      "metadata": {
        "id": "Gin8neRRzESy"
      },
      "source": [
        "temp_input=list(x_input)\n",
        "temp_input=temp_input[0].tolist()"
      ],
      "execution_count": null,
      "outputs": []
    },
    {
      "cell_type": "code",
      "metadata": {
        "id": "FdlQVwEJzESy",
        "outputId": "90a4ec5b-cb9c-4c8f-9df7-019aec51126d"
      },
      "source": [
        "temp_input"
      ],
      "execution_count": null,
      "outputs": [
        {
          "output_type": "execute_result",
          "data": {
            "text/plain": [
              "[0.8583551465000423,\n",
              " 0.8866418981676942,\n",
              " 0.8743139407244789,\n",
              " 0.8843198513890065,\n",
              " 0.8783669678290975,\n",
              " 0.8986321033521913,\n",
              " 0.925821160179009,\n",
              " 0.9287764924427933,\n",
              " 0.9567677108840666,\n",
              " 0.9386979650426415,\n",
              " 0.933040614709111,\n",
              " 0.9495060373216249,\n",
              " 0.9642404796082076,\n",
              " 0.9551211686228154,\n",
              " 0.9598919192772104,\n",
              " 0.9663514312251966,\n",
              " 0.9624672802499368,\n",
              " 0.9229502659799038,\n",
              " 0.9598497002448705,\n",
              " 0.9879253567508233,\n",
              " 0.985941062230854,\n",
              " 0.9253145317909315,\n",
              " 0.9217259140420504,\n",
              " 0.964747107996285,\n",
              " 0.9757240564046274,\n",
              " 0.9915984125643842,\n",
              " 0.9697289538123788,\n",
              " 0.9761462467280253,\n",
              " 0.9679557544541082,\n",
              " 1.0000000000000002,\n",
              " 0.9901629654648318,\n",
              " 0.9905007177235499,\n",
              " 0.9653803934813816,\n",
              " 0.9848855864223593,\n",
              " 0.9708688676855528,\n",
              " 0.9402600692392133,\n",
              " 0.8774803681499621,\n",
              " 0.8348391454867856,\n",
              " 0.8541332432660644,\n",
              " 0.7733682344000676,\n",
              " 0.7726927298826314,\n",
              " 0.8801401671873683,\n",
              " 0.8400743054969182,\n",
              " 0.8967322468969012,\n",
              " 0.8552731571392387,\n",
              " 0.8388499535590646,\n",
              " 0.7423372456303303,\n",
              " 0.8232711306256861,\n",
              " 0.7814320695769654,\n",
              " 0.6665963016127672,\n",
              " 0.7921557037912694,\n",
              " 0.6411804441442204,\n",
              " 0.6861437135860848,\n",
              " 0.6600101325677616,\n",
              " 0.6520307354555435,\n",
              " 0.5864223591995272,\n",
              " 0.5658616904500551,\n",
              " 0.660896732246897,\n",
              " 0.6551549438486872,\n",
              " 0.7097019336316812,\n",
              " 0.664527569028118,\n",
              " 0.6943764248923416,\n",
              " 0.692181035210673,\n",
              " 0.6356919699400492,\n",
              " 0.6526640209406402,\n",
              " 0.637802921557038,\n",
              " 0.7267162036646122,\n",
              " 0.7138816178333194,\n",
              " 0.7419150553069325,\n",
              " 0.7500211095161702,\n",
              " 0.7722283205268936,\n",
              " 0.8304905851557884,\n",
              " 0.8194291986827664,\n",
              " 0.8289706999915563,\n",
              " 0.8125474964113824,\n",
              " 0.7877649244279323,\n",
              " 0.7516254327450818,\n",
              " 0.7842607447437306,\n",
              " 0.7797433082833742,\n",
              " 0.8132652199611587,\n",
              " 0.8141096006079542,\n",
              " 0.7947310647639958,\n",
              " 0.8333614793548934,\n",
              " 0.8589884319851391,\n",
              " 0.8390188296884238,\n",
              " 0.8562864139153934,\n",
              " 0.8748627881448958,\n",
              " 0.887824031073208,\n",
              " 0.9009541501308793,\n",
              " 0.9279321117959978,\n",
              " 0.9485349995778098,\n",
              " 0.9333361479354896,\n",
              " 0.9174617917757326,\n",
              " 0.925441188887951,\n",
              " 0.9177151059697712,\n",
              " 0.9483239044161109,\n",
              " 0.9406400405302711,\n",
              " 0.9663514312251966,\n",
              " 0.9563033015283293,\n",
              " 0.964915984125644]"
            ]
          },
          "metadata": {
            "tags": []
          },
          "execution_count": 440
        }
      ]
    },
    {
      "cell_type": "code",
      "metadata": {
        "id": "kdv9GqGZzESy",
        "outputId": "15edf544-92bb-42b9-907b-12afa40d7c9f"
      },
      "source": [
        "# demonstrate prediction for next 10 days\n",
        "from numpy import array\n",
        "\n",
        "lst_output=[]\n",
        "n_steps=100\n",
        "i=0\n",
        "while(i<30):\n",
        "    \n",
        "    if(len(temp_input)>100):\n",
        "        #print(temp_input)\n",
        "        x_input=np.array(temp_input[1:])\n",
        "        print(\"{} day input {}\".format(i,x_input))\n",
        "        x_input=x_input.reshape(1,-1)\n",
        "        x_input = x_input.reshape((1, n_steps, 1))\n",
        "        #print(x_input)\n",
        "        yhat = model.predict(x_input, verbose=0)\n",
        "        print(\"{} day output {}\".format(i,yhat))\n",
        "        temp_input.extend(yhat[0].tolist())\n",
        "        temp_input=temp_input[1:]\n",
        "        #print(temp_input)\n",
        "        lst_output.extend(yhat.tolist())\n",
        "        i=i+1\n",
        "    else:\n",
        "        x_input = x_input.reshape((1, n_steps,1))\n",
        "        yhat = model.predict(x_input, verbose=0)\n",
        "        print(yhat[0])\n",
        "        temp_input.extend(yhat[0].tolist())\n",
        "        print(len(temp_input))\n",
        "        lst_output.extend(yhat.tolist())\n",
        "        i=i+1\n",
        "    \n",
        "\n",
        "print(lst_output)"
      ],
      "execution_count": null,
      "outputs": [
        {
          "output_type": "stream",
          "text": [
            "[0.94413203]\n",
            "101\n",
            "1 day input [0.8866419  0.87431394 0.88431985 0.87836697 0.8986321  0.92582116\n",
            " 0.92877649 0.95676771 0.93869797 0.93304061 0.94950604 0.96424048\n",
            " 0.95512117 0.95989192 0.96635143 0.96246728 0.92295027 0.9598497\n",
            " 0.98792536 0.98594106 0.92531453 0.92172591 0.96474711 0.97572406\n",
            " 0.99159841 0.96972895 0.97614625 0.96795575 1.         0.99016297\n",
            " 0.99050072 0.96538039 0.98488559 0.97086887 0.94026007 0.87748037\n",
            " 0.83483915 0.85413324 0.77336823 0.77269273 0.88014017 0.84007431\n",
            " 0.89673225 0.85527316 0.83884995 0.74233725 0.82327113 0.78143207\n",
            " 0.6665963  0.7921557  0.64118044 0.68614371 0.66001013 0.65203074\n",
            " 0.58642236 0.56586169 0.66089673 0.65515494 0.70970193 0.66452757\n",
            " 0.69437642 0.69218104 0.63569197 0.65266402 0.63780292 0.7267162\n",
            " 0.71388162 0.74191506 0.75002111 0.77222832 0.83049059 0.8194292\n",
            " 0.8289707  0.8125475  0.78776492 0.75162543 0.78426074 0.77974331\n",
            " 0.81326522 0.8141096  0.79473106 0.83336148 0.85898843 0.83901883\n",
            " 0.85628641 0.87486279 0.88782403 0.90095415 0.92793211 0.948535\n",
            " 0.93333615 0.91746179 0.92544119 0.91771511 0.9483239  0.94064004\n",
            " 0.96635143 0.9563033  0.96491598 0.94413203]\n",
            "1 day output [[0.9379593]]\n",
            "2 day input [0.87431394 0.88431985 0.87836697 0.8986321  0.92582116 0.92877649\n",
            " 0.95676771 0.93869797 0.93304061 0.94950604 0.96424048 0.95512117\n",
            " 0.95989192 0.96635143 0.96246728 0.92295027 0.9598497  0.98792536\n",
            " 0.98594106 0.92531453 0.92172591 0.96474711 0.97572406 0.99159841\n",
            " 0.96972895 0.97614625 0.96795575 1.         0.99016297 0.99050072\n",
            " 0.96538039 0.98488559 0.97086887 0.94026007 0.87748037 0.83483915\n",
            " 0.85413324 0.77336823 0.77269273 0.88014017 0.84007431 0.89673225\n",
            " 0.85527316 0.83884995 0.74233725 0.82327113 0.78143207 0.6665963\n",
            " 0.7921557  0.64118044 0.68614371 0.66001013 0.65203074 0.58642236\n",
            " 0.56586169 0.66089673 0.65515494 0.70970193 0.66452757 0.69437642\n",
            " 0.69218104 0.63569197 0.65266402 0.63780292 0.7267162  0.71388162\n",
            " 0.74191506 0.75002111 0.77222832 0.83049059 0.8194292  0.8289707\n",
            " 0.8125475  0.78776492 0.75162543 0.78426074 0.77974331 0.81326522\n",
            " 0.8141096  0.79473106 0.83336148 0.85898843 0.83901883 0.85628641\n",
            " 0.87486279 0.88782403 0.90095415 0.92793211 0.948535   0.93333615\n",
            " 0.91746179 0.92544119 0.91771511 0.9483239  0.94064004 0.96635143\n",
            " 0.9563033  0.96491598 0.94413203 0.93795931]\n",
            "2 day output [[0.9286534]]\n",
            "3 day input [0.88431985 0.87836697 0.8986321  0.92582116 0.92877649 0.95676771\n",
            " 0.93869797 0.93304061 0.94950604 0.96424048 0.95512117 0.95989192\n",
            " 0.96635143 0.96246728 0.92295027 0.9598497  0.98792536 0.98594106\n",
            " 0.92531453 0.92172591 0.96474711 0.97572406 0.99159841 0.96972895\n",
            " 0.97614625 0.96795575 1.         0.99016297 0.99050072 0.96538039\n",
            " 0.98488559 0.97086887 0.94026007 0.87748037 0.83483915 0.85413324\n",
            " 0.77336823 0.77269273 0.88014017 0.84007431 0.89673225 0.85527316\n",
            " 0.83884995 0.74233725 0.82327113 0.78143207 0.6665963  0.7921557\n",
            " 0.64118044 0.68614371 0.66001013 0.65203074 0.58642236 0.56586169\n",
            " 0.66089673 0.65515494 0.70970193 0.66452757 0.69437642 0.69218104\n",
            " 0.63569197 0.65266402 0.63780292 0.7267162  0.71388162 0.74191506\n",
            " 0.75002111 0.77222832 0.83049059 0.8194292  0.8289707  0.8125475\n",
            " 0.78776492 0.75162543 0.78426074 0.77974331 0.81326522 0.8141096\n",
            " 0.79473106 0.83336148 0.85898843 0.83901883 0.85628641 0.87486279\n",
            " 0.88782403 0.90095415 0.92793211 0.948535   0.93333615 0.91746179\n",
            " 0.92544119 0.91771511 0.9483239  0.94064004 0.96635143 0.9563033\n",
            " 0.96491598 0.94413203 0.93795931 0.92865342]\n",
            "3 day output [[0.91987926]]\n",
            "4 day input [0.87836697 0.8986321  0.92582116 0.92877649 0.95676771 0.93869797\n",
            " 0.93304061 0.94950604 0.96424048 0.95512117 0.95989192 0.96635143\n",
            " 0.96246728 0.92295027 0.9598497  0.98792536 0.98594106 0.92531453\n",
            " 0.92172591 0.96474711 0.97572406 0.99159841 0.96972895 0.97614625\n",
            " 0.96795575 1.         0.99016297 0.99050072 0.96538039 0.98488559\n",
            " 0.97086887 0.94026007 0.87748037 0.83483915 0.85413324 0.77336823\n",
            " 0.77269273 0.88014017 0.84007431 0.89673225 0.85527316 0.83884995\n",
            " 0.74233725 0.82327113 0.78143207 0.6665963  0.7921557  0.64118044\n",
            " 0.68614371 0.66001013 0.65203074 0.58642236 0.56586169 0.66089673\n",
            " 0.65515494 0.70970193 0.66452757 0.69437642 0.69218104 0.63569197\n",
            " 0.65266402 0.63780292 0.7267162  0.71388162 0.74191506 0.75002111\n",
            " 0.77222832 0.83049059 0.8194292  0.8289707  0.8125475  0.78776492\n",
            " 0.75162543 0.78426074 0.77974331 0.81326522 0.8141096  0.79473106\n",
            " 0.83336148 0.85898843 0.83901883 0.85628641 0.87486279 0.88782403\n",
            " 0.90095415 0.92793211 0.948535   0.93333615 0.91746179 0.92544119\n",
            " 0.91771511 0.9483239  0.94064004 0.96635143 0.9563033  0.96491598\n",
            " 0.94413203 0.93795931 0.92865342 0.91987926]\n",
            "4 day output [[0.9128097]]\n",
            "5 day input [0.8986321  0.92582116 0.92877649 0.95676771 0.93869797 0.93304061\n",
            " 0.94950604 0.96424048 0.95512117 0.95989192 0.96635143 0.96246728\n",
            " 0.92295027 0.9598497  0.98792536 0.98594106 0.92531453 0.92172591\n",
            " 0.96474711 0.97572406 0.99159841 0.96972895 0.97614625 0.96795575\n",
            " 1.         0.99016297 0.99050072 0.96538039 0.98488559 0.97086887\n",
            " 0.94026007 0.87748037 0.83483915 0.85413324 0.77336823 0.77269273\n",
            " 0.88014017 0.84007431 0.89673225 0.85527316 0.83884995 0.74233725\n",
            " 0.82327113 0.78143207 0.6665963  0.7921557  0.64118044 0.68614371\n",
            " 0.66001013 0.65203074 0.58642236 0.56586169 0.66089673 0.65515494\n",
            " 0.70970193 0.66452757 0.69437642 0.69218104 0.63569197 0.65266402\n",
            " 0.63780292 0.7267162  0.71388162 0.74191506 0.75002111 0.77222832\n",
            " 0.83049059 0.8194292  0.8289707  0.8125475  0.78776492 0.75162543\n",
            " 0.78426074 0.77974331 0.81326522 0.8141096  0.79473106 0.83336148\n",
            " 0.85898843 0.83901883 0.85628641 0.87486279 0.88782403 0.90095415\n",
            " 0.92793211 0.948535   0.93333615 0.91746179 0.92544119 0.91771511\n",
            " 0.9483239  0.94064004 0.96635143 0.9563033  0.96491598 0.94413203\n",
            " 0.93795931 0.92865342 0.91987926 0.91280973]\n",
            "5 day output [[0.90777564]]\n",
            "6 day input [0.92582116 0.92877649 0.95676771 0.93869797 0.93304061 0.94950604\n",
            " 0.96424048 0.95512117 0.95989192 0.96635143 0.96246728 0.92295027\n",
            " 0.9598497  0.98792536 0.98594106 0.92531453 0.92172591 0.96474711\n",
            " 0.97572406 0.99159841 0.96972895 0.97614625 0.96795575 1.\n",
            " 0.99016297 0.99050072 0.96538039 0.98488559 0.97086887 0.94026007\n",
            " 0.87748037 0.83483915 0.85413324 0.77336823 0.77269273 0.88014017\n",
            " 0.84007431 0.89673225 0.85527316 0.83884995 0.74233725 0.82327113\n",
            " 0.78143207 0.6665963  0.7921557  0.64118044 0.68614371 0.66001013\n",
            " 0.65203074 0.58642236 0.56586169 0.66089673 0.65515494 0.70970193\n",
            " 0.66452757 0.69437642 0.69218104 0.63569197 0.65266402 0.63780292\n",
            " 0.7267162  0.71388162 0.74191506 0.75002111 0.77222832 0.83049059\n",
            " 0.8194292  0.8289707  0.8125475  0.78776492 0.75162543 0.78426074\n",
            " 0.77974331 0.81326522 0.8141096  0.79473106 0.83336148 0.85898843\n",
            " 0.83901883 0.85628641 0.87486279 0.88782403 0.90095415 0.92793211\n",
            " 0.948535   0.93333615 0.91746179 0.92544119 0.91771511 0.9483239\n",
            " 0.94064004 0.96635143 0.9563033  0.96491598 0.94413203 0.93795931\n",
            " 0.92865342 0.91987926 0.91280973 0.90777564]\n",
            "6 day output [[0.9047326]]\n",
            "7 day input [0.92877649 0.95676771 0.93869797 0.93304061 0.94950604 0.96424048\n",
            " 0.95512117 0.95989192 0.96635143 0.96246728 0.92295027 0.9598497\n",
            " 0.98792536 0.98594106 0.92531453 0.92172591 0.96474711 0.97572406\n",
            " 0.99159841 0.96972895 0.97614625 0.96795575 1.         0.99016297\n",
            " 0.99050072 0.96538039 0.98488559 0.97086887 0.94026007 0.87748037\n",
            " 0.83483915 0.85413324 0.77336823 0.77269273 0.88014017 0.84007431\n",
            " 0.89673225 0.85527316 0.83884995 0.74233725 0.82327113 0.78143207\n",
            " 0.6665963  0.7921557  0.64118044 0.68614371 0.66001013 0.65203074\n",
            " 0.58642236 0.56586169 0.66089673 0.65515494 0.70970193 0.66452757\n",
            " 0.69437642 0.69218104 0.63569197 0.65266402 0.63780292 0.7267162\n",
            " 0.71388162 0.74191506 0.75002111 0.77222832 0.83049059 0.8194292\n",
            " 0.8289707  0.8125475  0.78776492 0.75162543 0.78426074 0.77974331\n",
            " 0.81326522 0.8141096  0.79473106 0.83336148 0.85898843 0.83901883\n",
            " 0.85628641 0.87486279 0.88782403 0.90095415 0.92793211 0.948535\n",
            " 0.93333615 0.91746179 0.92544119 0.91771511 0.9483239  0.94064004\n",
            " 0.96635143 0.9563033  0.96491598 0.94413203 0.93795931 0.92865342\n",
            " 0.91987926 0.91280973 0.90777564 0.90473258]\n",
            "7 day output [[0.9033923]]\n",
            "8 day input [0.95676771 0.93869797 0.93304061 0.94950604 0.96424048 0.95512117\n",
            " 0.95989192 0.96635143 0.96246728 0.92295027 0.9598497  0.98792536\n",
            " 0.98594106 0.92531453 0.92172591 0.96474711 0.97572406 0.99159841\n",
            " 0.96972895 0.97614625 0.96795575 1.         0.99016297 0.99050072\n",
            " 0.96538039 0.98488559 0.97086887 0.94026007 0.87748037 0.83483915\n",
            " 0.85413324 0.77336823 0.77269273 0.88014017 0.84007431 0.89673225\n",
            " 0.85527316 0.83884995 0.74233725 0.82327113 0.78143207 0.6665963\n",
            " 0.7921557  0.64118044 0.68614371 0.66001013 0.65203074 0.58642236\n",
            " 0.56586169 0.66089673 0.65515494 0.70970193 0.66452757 0.69437642\n",
            " 0.69218104 0.63569197 0.65266402 0.63780292 0.7267162  0.71388162\n",
            " 0.74191506 0.75002111 0.77222832 0.83049059 0.8194292  0.8289707\n",
            " 0.8125475  0.78776492 0.75162543 0.78426074 0.77974331 0.81326522\n",
            " 0.8141096  0.79473106 0.83336148 0.85898843 0.83901883 0.85628641\n",
            " 0.87486279 0.88782403 0.90095415 0.92793211 0.948535   0.93333615\n",
            " 0.91746179 0.92544119 0.91771511 0.9483239  0.94064004 0.96635143\n",
            " 0.9563033  0.96491598 0.94413203 0.93795931 0.92865342 0.91987926\n",
            " 0.91280973 0.90777564 0.90473258 0.90339231]\n",
            "8 day output [[0.90332204]]\n",
            "9 day input [0.93869797 0.93304061 0.94950604 0.96424048 0.95512117 0.95989192\n",
            " 0.96635143 0.96246728 0.92295027 0.9598497  0.98792536 0.98594106\n",
            " 0.92531453 0.92172591 0.96474711 0.97572406 0.99159841 0.96972895\n",
            " 0.97614625 0.96795575 1.         0.99016297 0.99050072 0.96538039\n",
            " 0.98488559 0.97086887 0.94026007 0.87748037 0.83483915 0.85413324\n",
            " 0.77336823 0.77269273 0.88014017 0.84007431 0.89673225 0.85527316\n",
            " 0.83884995 0.74233725 0.82327113 0.78143207 0.6665963  0.7921557\n",
            " 0.64118044 0.68614371 0.66001013 0.65203074 0.58642236 0.56586169\n",
            " 0.66089673 0.65515494 0.70970193 0.66452757 0.69437642 0.69218104\n",
            " 0.63569197 0.65266402 0.63780292 0.7267162  0.71388162 0.74191506\n",
            " 0.75002111 0.77222832 0.83049059 0.8194292  0.8289707  0.8125475\n",
            " 0.78776492 0.75162543 0.78426074 0.77974331 0.81326522 0.8141096\n",
            " 0.79473106 0.83336148 0.85898843 0.83901883 0.85628641 0.87486279\n",
            " 0.88782403 0.90095415 0.92793211 0.948535   0.93333615 0.91746179\n",
            " 0.92544119 0.91771511 0.9483239  0.94064004 0.96635143 0.9563033\n",
            " 0.96491598 0.94413203 0.93795931 0.92865342 0.91987926 0.91280973\n",
            " 0.90777564 0.90473258 0.90339231 0.90332204]\n",
            "9 day output [[0.9040391]]\n",
            "10 day input [0.93304061 0.94950604 0.96424048 0.95512117 0.95989192 0.96635143\n",
            " 0.96246728 0.92295027 0.9598497  0.98792536 0.98594106 0.92531453\n",
            " 0.92172591 0.96474711 0.97572406 0.99159841 0.96972895 0.97614625\n",
            " 0.96795575 1.         0.99016297 0.99050072 0.96538039 0.98488559\n",
            " 0.97086887 0.94026007 0.87748037 0.83483915 0.85413324 0.77336823\n",
            " 0.77269273 0.88014017 0.84007431 0.89673225 0.85527316 0.83884995\n",
            " 0.74233725 0.82327113 0.78143207 0.6665963  0.7921557  0.64118044\n",
            " 0.68614371 0.66001013 0.65203074 0.58642236 0.56586169 0.66089673\n",
            " 0.65515494 0.70970193 0.66452757 0.69437642 0.69218104 0.63569197\n",
            " 0.65266402 0.63780292 0.7267162  0.71388162 0.74191506 0.75002111\n",
            " 0.77222832 0.83049059 0.8194292  0.8289707  0.8125475  0.78776492\n",
            " 0.75162543 0.78426074 0.77974331 0.81326522 0.8141096  0.79473106\n",
            " 0.83336148 0.85898843 0.83901883 0.85628641 0.87486279 0.88782403\n",
            " 0.90095415 0.92793211 0.948535   0.93333615 0.91746179 0.92544119\n",
            " 0.91771511 0.9483239  0.94064004 0.96635143 0.9563033  0.96491598\n",
            " 0.94413203 0.93795931 0.92865342 0.91987926 0.91280973 0.90777564\n",
            " 0.90473258 0.90339231 0.90332204 0.90403908]\n"
          ],
          "name": "stdout"
        },
        {
          "output_type": "stream",
          "text": [
            "10 day output [[0.9050924]]\n",
            "11 day input [0.94950604 0.96424048 0.95512117 0.95989192 0.96635143 0.96246728\n",
            " 0.92295027 0.9598497  0.98792536 0.98594106 0.92531453 0.92172591\n",
            " 0.96474711 0.97572406 0.99159841 0.96972895 0.97614625 0.96795575\n",
            " 1.         0.99016297 0.99050072 0.96538039 0.98488559 0.97086887\n",
            " 0.94026007 0.87748037 0.83483915 0.85413324 0.77336823 0.77269273\n",
            " 0.88014017 0.84007431 0.89673225 0.85527316 0.83884995 0.74233725\n",
            " 0.82327113 0.78143207 0.6665963  0.7921557  0.64118044 0.68614371\n",
            " 0.66001013 0.65203074 0.58642236 0.56586169 0.66089673 0.65515494\n",
            " 0.70970193 0.66452757 0.69437642 0.69218104 0.63569197 0.65266402\n",
            " 0.63780292 0.7267162  0.71388162 0.74191506 0.75002111 0.77222832\n",
            " 0.83049059 0.8194292  0.8289707  0.8125475  0.78776492 0.75162543\n",
            " 0.78426074 0.77974331 0.81326522 0.8141096  0.79473106 0.83336148\n",
            " 0.85898843 0.83901883 0.85628641 0.87486279 0.88782403 0.90095415\n",
            " 0.92793211 0.948535   0.93333615 0.91746179 0.92544119 0.91771511\n",
            " 0.9483239  0.94064004 0.96635143 0.9563033  0.96491598 0.94413203\n",
            " 0.93795931 0.92865342 0.91987926 0.91280973 0.90777564 0.90473258\n",
            " 0.90339231 0.90332204 0.90403908 0.90509242]\n",
            "11 day output [[0.906118]]\n",
            "12 day input [0.96424048 0.95512117 0.95989192 0.96635143 0.96246728 0.92295027\n",
            " 0.9598497  0.98792536 0.98594106 0.92531453 0.92172591 0.96474711\n",
            " 0.97572406 0.99159841 0.96972895 0.97614625 0.96795575 1.\n",
            " 0.99016297 0.99050072 0.96538039 0.98488559 0.97086887 0.94026007\n",
            " 0.87748037 0.83483915 0.85413324 0.77336823 0.77269273 0.88014017\n",
            " 0.84007431 0.89673225 0.85527316 0.83884995 0.74233725 0.82327113\n",
            " 0.78143207 0.6665963  0.7921557  0.64118044 0.68614371 0.66001013\n",
            " 0.65203074 0.58642236 0.56586169 0.66089673 0.65515494 0.70970193\n",
            " 0.66452757 0.69437642 0.69218104 0.63569197 0.65266402 0.63780292\n",
            " 0.7267162  0.71388162 0.74191506 0.75002111 0.77222832 0.83049059\n",
            " 0.8194292  0.8289707  0.8125475  0.78776492 0.75162543 0.78426074\n",
            " 0.77974331 0.81326522 0.8141096  0.79473106 0.83336148 0.85898843\n",
            " 0.83901883 0.85628641 0.87486279 0.88782403 0.90095415 0.92793211\n",
            " 0.948535   0.93333615 0.91746179 0.92544119 0.91771511 0.9483239\n",
            " 0.94064004 0.96635143 0.9563033  0.96491598 0.94413203 0.93795931\n",
            " 0.92865342 0.91987926 0.91280973 0.90777564 0.90473258 0.90339231\n",
            " 0.90332204 0.90403908 0.90509242 0.90611798]\n",
            "12 day output [[0.90686554]]\n",
            "13 day input [0.95512117 0.95989192 0.96635143 0.96246728 0.92295027 0.9598497\n",
            " 0.98792536 0.98594106 0.92531453 0.92172591 0.96474711 0.97572406\n",
            " 0.99159841 0.96972895 0.97614625 0.96795575 1.         0.99016297\n",
            " 0.99050072 0.96538039 0.98488559 0.97086887 0.94026007 0.87748037\n",
            " 0.83483915 0.85413324 0.77336823 0.77269273 0.88014017 0.84007431\n",
            " 0.89673225 0.85527316 0.83884995 0.74233725 0.82327113 0.78143207\n",
            " 0.6665963  0.7921557  0.64118044 0.68614371 0.66001013 0.65203074\n",
            " 0.58642236 0.56586169 0.66089673 0.65515494 0.70970193 0.66452757\n",
            " 0.69437642 0.69218104 0.63569197 0.65266402 0.63780292 0.7267162\n",
            " 0.71388162 0.74191506 0.75002111 0.77222832 0.83049059 0.8194292\n",
            " 0.8289707  0.8125475  0.78776492 0.75162543 0.78426074 0.77974331\n",
            " 0.81326522 0.8141096  0.79473106 0.83336148 0.85898843 0.83901883\n",
            " 0.85628641 0.87486279 0.88782403 0.90095415 0.92793211 0.948535\n",
            " 0.93333615 0.91746179 0.92544119 0.91771511 0.9483239  0.94064004\n",
            " 0.96635143 0.9563033  0.96491598 0.94413203 0.93795931 0.92865342\n",
            " 0.91987926 0.91280973 0.90777564 0.90473258 0.90339231 0.90332204\n",
            " 0.90403908 0.90509242 0.90611798 0.90686554]\n",
            "13 day output [[0.90720606]]\n",
            "14 day input [0.95989192 0.96635143 0.96246728 0.92295027 0.9598497  0.98792536\n",
            " 0.98594106 0.92531453 0.92172591 0.96474711 0.97572406 0.99159841\n",
            " 0.96972895 0.97614625 0.96795575 1.         0.99016297 0.99050072\n",
            " 0.96538039 0.98488559 0.97086887 0.94026007 0.87748037 0.83483915\n",
            " 0.85413324 0.77336823 0.77269273 0.88014017 0.84007431 0.89673225\n",
            " 0.85527316 0.83884995 0.74233725 0.82327113 0.78143207 0.6665963\n",
            " 0.7921557  0.64118044 0.68614371 0.66001013 0.65203074 0.58642236\n",
            " 0.56586169 0.66089673 0.65515494 0.70970193 0.66452757 0.69437642\n",
            " 0.69218104 0.63569197 0.65266402 0.63780292 0.7267162  0.71388162\n",
            " 0.74191506 0.75002111 0.77222832 0.83049059 0.8194292  0.8289707\n",
            " 0.8125475  0.78776492 0.75162543 0.78426074 0.77974331 0.81326522\n",
            " 0.8141096  0.79473106 0.83336148 0.85898843 0.83901883 0.85628641\n",
            " 0.87486279 0.88782403 0.90095415 0.92793211 0.948535   0.93333615\n",
            " 0.91746179 0.92544119 0.91771511 0.9483239  0.94064004 0.96635143\n",
            " 0.9563033  0.96491598 0.94413203 0.93795931 0.92865342 0.91987926\n",
            " 0.91280973 0.90777564 0.90473258 0.90339231 0.90332204 0.90403908\n",
            " 0.90509242 0.90611798 0.90686554 0.90720606]\n",
            "14 day output [[0.9071163]]\n",
            "15 day input [0.96635143 0.96246728 0.92295027 0.9598497  0.98792536 0.98594106\n",
            " 0.92531453 0.92172591 0.96474711 0.97572406 0.99159841 0.96972895\n",
            " 0.97614625 0.96795575 1.         0.99016297 0.99050072 0.96538039\n",
            " 0.98488559 0.97086887 0.94026007 0.87748037 0.83483915 0.85413324\n",
            " 0.77336823 0.77269273 0.88014017 0.84007431 0.89673225 0.85527316\n",
            " 0.83884995 0.74233725 0.82327113 0.78143207 0.6665963  0.7921557\n",
            " 0.64118044 0.68614371 0.66001013 0.65203074 0.58642236 0.56586169\n",
            " 0.66089673 0.65515494 0.70970193 0.66452757 0.69437642 0.69218104\n",
            " 0.63569197 0.65266402 0.63780292 0.7267162  0.71388162 0.74191506\n",
            " 0.75002111 0.77222832 0.83049059 0.8194292  0.8289707  0.8125475\n",
            " 0.78776492 0.75162543 0.78426074 0.77974331 0.81326522 0.8141096\n",
            " 0.79473106 0.83336148 0.85898843 0.83901883 0.85628641 0.87486279\n",
            " 0.88782403 0.90095415 0.92793211 0.948535   0.93333615 0.91746179\n",
            " 0.92544119 0.91771511 0.9483239  0.94064004 0.96635143 0.9563033\n",
            " 0.96491598 0.94413203 0.93795931 0.92865342 0.91987926 0.91280973\n",
            " 0.90777564 0.90473258 0.90339231 0.90332204 0.90403908 0.90509242\n",
            " 0.90611798 0.90686554 0.90720606 0.90711629]\n",
            "15 day output [[0.9066538]]\n",
            "16 day input [0.96246728 0.92295027 0.9598497  0.98792536 0.98594106 0.92531453\n",
            " 0.92172591 0.96474711 0.97572406 0.99159841 0.96972895 0.97614625\n",
            " 0.96795575 1.         0.99016297 0.99050072 0.96538039 0.98488559\n",
            " 0.97086887 0.94026007 0.87748037 0.83483915 0.85413324 0.77336823\n",
            " 0.77269273 0.88014017 0.84007431 0.89673225 0.85527316 0.83884995\n",
            " 0.74233725 0.82327113 0.78143207 0.6665963  0.7921557  0.64118044\n",
            " 0.68614371 0.66001013 0.65203074 0.58642236 0.56586169 0.66089673\n",
            " 0.65515494 0.70970193 0.66452757 0.69437642 0.69218104 0.63569197\n",
            " 0.65266402 0.63780292 0.7267162  0.71388162 0.74191506 0.75002111\n",
            " 0.77222832 0.83049059 0.8194292  0.8289707  0.8125475  0.78776492\n",
            " 0.75162543 0.78426074 0.77974331 0.81326522 0.8141096  0.79473106\n",
            " 0.83336148 0.85898843 0.83901883 0.85628641 0.87486279 0.88782403\n",
            " 0.90095415 0.92793211 0.948535   0.93333615 0.91746179 0.92544119\n",
            " 0.91771511 0.9483239  0.94064004 0.96635143 0.9563033  0.96491598\n",
            " 0.94413203 0.93795931 0.92865342 0.91987926 0.91280973 0.90777564\n",
            " 0.90473258 0.90339231 0.90332204 0.90403908 0.90509242 0.90611798\n",
            " 0.90686554 0.90720606 0.90711629 0.90665382]\n",
            "16 day output [[0.90592706]]\n",
            "17 day input [0.92295027 0.9598497  0.98792536 0.98594106 0.92531453 0.92172591\n",
            " 0.96474711 0.97572406 0.99159841 0.96972895 0.97614625 0.96795575\n",
            " 1.         0.99016297 0.99050072 0.96538039 0.98488559 0.97086887\n",
            " 0.94026007 0.87748037 0.83483915 0.85413324 0.77336823 0.77269273\n",
            " 0.88014017 0.84007431 0.89673225 0.85527316 0.83884995 0.74233725\n",
            " 0.82327113 0.78143207 0.6665963  0.7921557  0.64118044 0.68614371\n",
            " 0.66001013 0.65203074 0.58642236 0.56586169 0.66089673 0.65515494\n",
            " 0.70970193 0.66452757 0.69437642 0.69218104 0.63569197 0.65266402\n",
            " 0.63780292 0.7267162  0.71388162 0.74191506 0.75002111 0.77222832\n",
            " 0.83049059 0.8194292  0.8289707  0.8125475  0.78776492 0.75162543\n",
            " 0.78426074 0.77974331 0.81326522 0.8141096  0.79473106 0.83336148\n",
            " 0.85898843 0.83901883 0.85628641 0.87486279 0.88782403 0.90095415\n",
            " 0.92793211 0.948535   0.93333615 0.91746179 0.92544119 0.91771511\n",
            " 0.9483239  0.94064004 0.96635143 0.9563033  0.96491598 0.94413203\n",
            " 0.93795931 0.92865342 0.91987926 0.91280973 0.90777564 0.90473258\n",
            " 0.90339231 0.90332204 0.90403908 0.90509242 0.90611798 0.90686554\n",
            " 0.90720606 0.90711629 0.90665382 0.90592706]\n",
            "17 day output [[0.9050646]]\n",
            "18 day input [0.9598497  0.98792536 0.98594106 0.92531453 0.92172591 0.96474711\n",
            " 0.97572406 0.99159841 0.96972895 0.97614625 0.96795575 1.\n",
            " 0.99016297 0.99050072 0.96538039 0.98488559 0.97086887 0.94026007\n",
            " 0.87748037 0.83483915 0.85413324 0.77336823 0.77269273 0.88014017\n",
            " 0.84007431 0.89673225 0.85527316 0.83884995 0.74233725 0.82327113\n",
            " 0.78143207 0.6665963  0.7921557  0.64118044 0.68614371 0.66001013\n",
            " 0.65203074 0.58642236 0.56586169 0.66089673 0.65515494 0.70970193\n",
            " 0.66452757 0.69437642 0.69218104 0.63569197 0.65266402 0.63780292\n",
            " 0.7267162  0.71388162 0.74191506 0.75002111 0.77222832 0.83049059\n",
            " 0.8194292  0.8289707  0.8125475  0.78776492 0.75162543 0.78426074\n",
            " 0.77974331 0.81326522 0.8141096  0.79473106 0.83336148 0.85898843\n",
            " 0.83901883 0.85628641 0.87486279 0.88782403 0.90095415 0.92793211\n",
            " 0.948535   0.93333615 0.91746179 0.92544119 0.91771511 0.9483239\n",
            " 0.94064004 0.96635143 0.9563033  0.96491598 0.94413203 0.93795931\n",
            " 0.92865342 0.91987926 0.91280973 0.90777564 0.90473258 0.90339231\n",
            " 0.90332204 0.90403908 0.90509242 0.90611798 0.90686554 0.90720606\n",
            " 0.90711629 0.90665382 0.90592706 0.90506458]\n",
            "18 day output [[0.90419257]]\n",
            "19 day input [0.98792536 0.98594106 0.92531453 0.92172591 0.96474711 0.97572406\n",
            " 0.99159841 0.96972895 0.97614625 0.96795575 1.         0.99016297\n",
            " 0.99050072 0.96538039 0.98488559 0.97086887 0.94026007 0.87748037\n",
            " 0.83483915 0.85413324 0.77336823 0.77269273 0.88014017 0.84007431\n",
            " 0.89673225 0.85527316 0.83884995 0.74233725 0.82327113 0.78143207\n",
            " 0.6665963  0.7921557  0.64118044 0.68614371 0.66001013 0.65203074\n",
            " 0.58642236 0.56586169 0.66089673 0.65515494 0.70970193 0.66452757\n",
            " 0.69437642 0.69218104 0.63569197 0.65266402 0.63780292 0.7267162\n",
            " 0.71388162 0.74191506 0.75002111 0.77222832 0.83049059 0.8194292\n",
            " 0.8289707  0.8125475  0.78776492 0.75162543 0.78426074 0.77974331\n",
            " 0.81326522 0.8141096  0.79473106 0.83336148 0.85898843 0.83901883\n",
            " 0.85628641 0.87486279 0.88782403 0.90095415 0.92793211 0.948535\n",
            " 0.93333615 0.91746179 0.92544119 0.91771511 0.9483239  0.94064004\n",
            " 0.96635143 0.9563033  0.96491598 0.94413203 0.93795931 0.92865342\n",
            " 0.91987926 0.91280973 0.90777564 0.90473258 0.90339231 0.90332204\n",
            " 0.90403908 0.90509242 0.90611798 0.90686554 0.90720606 0.90711629\n",
            " 0.90665382 0.90592706 0.90506458 0.90419257]\n",
            "19 day output [[0.9034131]]\n",
            "20 day input [0.98594106 0.92531453 0.92172591 0.96474711 0.97572406 0.99159841\n",
            " 0.96972895 0.97614625 0.96795575 1.         0.99016297 0.99050072\n",
            " 0.96538039 0.98488559 0.97086887 0.94026007 0.87748037 0.83483915\n",
            " 0.85413324 0.77336823 0.77269273 0.88014017 0.84007431 0.89673225\n",
            " 0.85527316 0.83884995 0.74233725 0.82327113 0.78143207 0.6665963\n",
            " 0.7921557  0.64118044 0.68614371 0.66001013 0.65203074 0.58642236\n",
            " 0.56586169 0.66089673 0.65515494 0.70970193 0.66452757 0.69437642\n",
            " 0.69218104 0.63569197 0.65266402 0.63780292 0.7267162  0.71388162\n",
            " 0.74191506 0.75002111 0.77222832 0.83049059 0.8194292  0.8289707\n",
            " 0.8125475  0.78776492 0.75162543 0.78426074 0.77974331 0.81326522\n",
            " 0.8141096  0.79473106 0.83336148 0.85898843 0.83901883 0.85628641\n",
            " 0.87486279 0.88782403 0.90095415 0.92793211 0.948535   0.93333615\n",
            " 0.91746179 0.92544119 0.91771511 0.9483239  0.94064004 0.96635143\n",
            " 0.9563033  0.96491598 0.94413203 0.93795931 0.92865342 0.91987926\n",
            " 0.91280973 0.90777564 0.90473258 0.90339231 0.90332204 0.90403908\n",
            " 0.90509242 0.90611798 0.90686554 0.90720606 0.90711629 0.90665382\n",
            " 0.90592706 0.90506458 0.90419257 0.90341312]\n"
          ],
          "name": "stdout"
        },
        {
          "output_type": "stream",
          "text": [
            "20 day output [[0.90279734]]\n",
            "21 day input [0.92531453 0.92172591 0.96474711 0.97572406 0.99159841 0.96972895\n",
            " 0.97614625 0.96795575 1.         0.99016297 0.99050072 0.96538039\n",
            " 0.98488559 0.97086887 0.94026007 0.87748037 0.83483915 0.85413324\n",
            " 0.77336823 0.77269273 0.88014017 0.84007431 0.89673225 0.85527316\n",
            " 0.83884995 0.74233725 0.82327113 0.78143207 0.6665963  0.7921557\n",
            " 0.64118044 0.68614371 0.66001013 0.65203074 0.58642236 0.56586169\n",
            " 0.66089673 0.65515494 0.70970193 0.66452757 0.69437642 0.69218104\n",
            " 0.63569197 0.65266402 0.63780292 0.7267162  0.71388162 0.74191506\n",
            " 0.75002111 0.77222832 0.83049059 0.8194292  0.8289707  0.8125475\n",
            " 0.78776492 0.75162543 0.78426074 0.77974331 0.81326522 0.8141096\n",
            " 0.79473106 0.83336148 0.85898843 0.83901883 0.85628641 0.87486279\n",
            " 0.88782403 0.90095415 0.92793211 0.948535   0.93333615 0.91746179\n",
            " 0.92544119 0.91771511 0.9483239  0.94064004 0.96635143 0.9563033\n",
            " 0.96491598 0.94413203 0.93795931 0.92865342 0.91987926 0.91280973\n",
            " 0.90777564 0.90473258 0.90339231 0.90332204 0.90403908 0.90509242\n",
            " 0.90611798 0.90686554 0.90720606 0.90711629 0.90665382 0.90592706\n",
            " 0.90506458 0.90419257 0.90341312 0.90279734]\n",
            "21 day output [[0.9023812]]\n",
            "22 day input [0.92172591 0.96474711 0.97572406 0.99159841 0.96972895 0.97614625\n",
            " 0.96795575 1.         0.99016297 0.99050072 0.96538039 0.98488559\n",
            " 0.97086887 0.94026007 0.87748037 0.83483915 0.85413324 0.77336823\n",
            " 0.77269273 0.88014017 0.84007431 0.89673225 0.85527316 0.83884995\n",
            " 0.74233725 0.82327113 0.78143207 0.6665963  0.7921557  0.64118044\n",
            " 0.68614371 0.66001013 0.65203074 0.58642236 0.56586169 0.66089673\n",
            " 0.65515494 0.70970193 0.66452757 0.69437642 0.69218104 0.63569197\n",
            " 0.65266402 0.63780292 0.7267162  0.71388162 0.74191506 0.75002111\n",
            " 0.77222832 0.83049059 0.8194292  0.8289707  0.8125475  0.78776492\n",
            " 0.75162543 0.78426074 0.77974331 0.81326522 0.8141096  0.79473106\n",
            " 0.83336148 0.85898843 0.83901883 0.85628641 0.87486279 0.88782403\n",
            " 0.90095415 0.92793211 0.948535   0.93333615 0.91746179 0.92544119\n",
            " 0.91771511 0.9483239  0.94064004 0.96635143 0.9563033  0.96491598\n",
            " 0.94413203 0.93795931 0.92865342 0.91987926 0.91280973 0.90777564\n",
            " 0.90473258 0.90339231 0.90332204 0.90403908 0.90509242 0.90611798\n",
            " 0.90686554 0.90720606 0.90711629 0.90665382 0.90592706 0.90506458\n",
            " 0.90419257 0.90341312 0.90279734 0.90238118]\n",
            "22 day output [[0.9021694]]\n",
            "23 day input [0.96474711 0.97572406 0.99159841 0.96972895 0.97614625 0.96795575\n",
            " 1.         0.99016297 0.99050072 0.96538039 0.98488559 0.97086887\n",
            " 0.94026007 0.87748037 0.83483915 0.85413324 0.77336823 0.77269273\n",
            " 0.88014017 0.84007431 0.89673225 0.85527316 0.83884995 0.74233725\n",
            " 0.82327113 0.78143207 0.6665963  0.7921557  0.64118044 0.68614371\n",
            " 0.66001013 0.65203074 0.58642236 0.56586169 0.66089673 0.65515494\n",
            " 0.70970193 0.66452757 0.69437642 0.69218104 0.63569197 0.65266402\n",
            " 0.63780292 0.7267162  0.71388162 0.74191506 0.75002111 0.77222832\n",
            " 0.83049059 0.8194292  0.8289707  0.8125475  0.78776492 0.75162543\n",
            " 0.78426074 0.77974331 0.81326522 0.8141096  0.79473106 0.83336148\n",
            " 0.85898843 0.83901883 0.85628641 0.87486279 0.88782403 0.90095415\n",
            " 0.92793211 0.948535   0.93333615 0.91746179 0.92544119 0.91771511\n",
            " 0.9483239  0.94064004 0.96635143 0.9563033  0.96491598 0.94413203\n",
            " 0.93795931 0.92865342 0.91987926 0.91280973 0.90777564 0.90473258\n",
            " 0.90339231 0.90332204 0.90403908 0.90509242 0.90611798 0.90686554\n",
            " 0.90720606 0.90711629 0.90665382 0.90592706 0.90506458 0.90419257\n",
            " 0.90341312 0.90279734 0.90238118 0.90216941]\n",
            "23 day output [[0.90213937]]\n",
            "24 day input [0.97572406 0.99159841 0.96972895 0.97614625 0.96795575 1.\n",
            " 0.99016297 0.99050072 0.96538039 0.98488559 0.97086887 0.94026007\n",
            " 0.87748037 0.83483915 0.85413324 0.77336823 0.77269273 0.88014017\n",
            " 0.84007431 0.89673225 0.85527316 0.83884995 0.74233725 0.82327113\n",
            " 0.78143207 0.6665963  0.7921557  0.64118044 0.68614371 0.66001013\n",
            " 0.65203074 0.58642236 0.56586169 0.66089673 0.65515494 0.70970193\n",
            " 0.66452757 0.69437642 0.69218104 0.63569197 0.65266402 0.63780292\n",
            " 0.7267162  0.71388162 0.74191506 0.75002111 0.77222832 0.83049059\n",
            " 0.8194292  0.8289707  0.8125475  0.78776492 0.75162543 0.78426074\n",
            " 0.77974331 0.81326522 0.8141096  0.79473106 0.83336148 0.85898843\n",
            " 0.83901883 0.85628641 0.87486279 0.88782403 0.90095415 0.92793211\n",
            " 0.948535   0.93333615 0.91746179 0.92544119 0.91771511 0.9483239\n",
            " 0.94064004 0.96635143 0.9563033  0.96491598 0.94413203 0.93795931\n",
            " 0.92865342 0.91987926 0.91280973 0.90777564 0.90473258 0.90339231\n",
            " 0.90332204 0.90403908 0.90509242 0.90611798 0.90686554 0.90720606\n",
            " 0.90711629 0.90665382 0.90592706 0.90506458 0.90419257 0.90341312\n",
            " 0.90279734 0.90238118 0.90216941 0.90213937]\n",
            "24 day output [[0.9022528]]\n",
            "25 day input [0.99159841 0.96972895 0.97614625 0.96795575 1.         0.99016297\n",
            " 0.99050072 0.96538039 0.98488559 0.97086887 0.94026007 0.87748037\n",
            " 0.83483915 0.85413324 0.77336823 0.77269273 0.88014017 0.84007431\n",
            " 0.89673225 0.85527316 0.83884995 0.74233725 0.82327113 0.78143207\n",
            " 0.6665963  0.7921557  0.64118044 0.68614371 0.66001013 0.65203074\n",
            " 0.58642236 0.56586169 0.66089673 0.65515494 0.70970193 0.66452757\n",
            " 0.69437642 0.69218104 0.63569197 0.65266402 0.63780292 0.7267162\n",
            " 0.71388162 0.74191506 0.75002111 0.77222832 0.83049059 0.8194292\n",
            " 0.8289707  0.8125475  0.78776492 0.75162543 0.78426074 0.77974331\n",
            " 0.81326522 0.8141096  0.79473106 0.83336148 0.85898843 0.83901883\n",
            " 0.85628641 0.87486279 0.88782403 0.90095415 0.92793211 0.948535\n",
            " 0.93333615 0.91746179 0.92544119 0.91771511 0.9483239  0.94064004\n",
            " 0.96635143 0.9563033  0.96491598 0.94413203 0.93795931 0.92865342\n",
            " 0.91987926 0.91280973 0.90777564 0.90473258 0.90339231 0.90332204\n",
            " 0.90403908 0.90509242 0.90611798 0.90686554 0.90720606 0.90711629\n",
            " 0.90665382 0.90592706 0.90506458 0.90419257 0.90341312 0.90279734\n",
            " 0.90238118 0.90216941 0.90213937 0.90225279]\n",
            "25 day output [[0.90246403]]\n",
            "26 day input [0.96972895 0.97614625 0.96795575 1.         0.99016297 0.99050072\n",
            " 0.96538039 0.98488559 0.97086887 0.94026007 0.87748037 0.83483915\n",
            " 0.85413324 0.77336823 0.77269273 0.88014017 0.84007431 0.89673225\n",
            " 0.85527316 0.83884995 0.74233725 0.82327113 0.78143207 0.6665963\n",
            " 0.7921557  0.64118044 0.68614371 0.66001013 0.65203074 0.58642236\n",
            " 0.56586169 0.66089673 0.65515494 0.70970193 0.66452757 0.69437642\n",
            " 0.69218104 0.63569197 0.65266402 0.63780292 0.7267162  0.71388162\n",
            " 0.74191506 0.75002111 0.77222832 0.83049059 0.8194292  0.8289707\n",
            " 0.8125475  0.78776492 0.75162543 0.78426074 0.77974331 0.81326522\n",
            " 0.8141096  0.79473106 0.83336148 0.85898843 0.83901883 0.85628641\n",
            " 0.87486279 0.88782403 0.90095415 0.92793211 0.948535   0.93333615\n",
            " 0.91746179 0.92544119 0.91771511 0.9483239  0.94064004 0.96635143\n",
            " 0.9563033  0.96491598 0.94413203 0.93795931 0.92865342 0.91987926\n",
            " 0.91280973 0.90777564 0.90473258 0.90339231 0.90332204 0.90403908\n",
            " 0.90509242 0.90611798 0.90686554 0.90720606 0.90711629 0.90665382\n",
            " 0.90592706 0.90506458 0.90419257 0.90341312 0.90279734 0.90238118\n",
            " 0.90216941 0.90213937 0.90225279 0.90246403]\n",
            "26 day output [[0.90272856]]\n",
            "27 day input [0.97614625 0.96795575 1.         0.99016297 0.99050072 0.96538039\n",
            " 0.98488559 0.97086887 0.94026007 0.87748037 0.83483915 0.85413324\n",
            " 0.77336823 0.77269273 0.88014017 0.84007431 0.89673225 0.85527316\n",
            " 0.83884995 0.74233725 0.82327113 0.78143207 0.6665963  0.7921557\n",
            " 0.64118044 0.68614371 0.66001013 0.65203074 0.58642236 0.56586169\n",
            " 0.66089673 0.65515494 0.70970193 0.66452757 0.69437642 0.69218104\n",
            " 0.63569197 0.65266402 0.63780292 0.7267162  0.71388162 0.74191506\n",
            " 0.75002111 0.77222832 0.83049059 0.8194292  0.8289707  0.8125475\n",
            " 0.78776492 0.75162543 0.78426074 0.77974331 0.81326522 0.8141096\n",
            " 0.79473106 0.83336148 0.85898843 0.83901883 0.85628641 0.87486279\n",
            " 0.88782403 0.90095415 0.92793211 0.948535   0.93333615 0.91746179\n",
            " 0.92544119 0.91771511 0.9483239  0.94064004 0.96635143 0.9563033\n",
            " 0.96491598 0.94413203 0.93795931 0.92865342 0.91987926 0.91280973\n",
            " 0.90777564 0.90473258 0.90339231 0.90332204 0.90403908 0.90509242\n",
            " 0.90611798 0.90686554 0.90720606 0.90711629 0.90665382 0.90592706\n",
            " 0.90506458 0.90419257 0.90341312 0.90279734 0.90238118 0.90216941\n",
            " 0.90213937 0.90225279 0.90246403 0.90272856]\n",
            "27 day output [[0.90300757]]\n",
            "28 day input [0.96795575 1.         0.99016297 0.99050072 0.96538039 0.98488559\n",
            " 0.97086887 0.94026007 0.87748037 0.83483915 0.85413324 0.77336823\n",
            " 0.77269273 0.88014017 0.84007431 0.89673225 0.85527316 0.83884995\n",
            " 0.74233725 0.82327113 0.78143207 0.6665963  0.7921557  0.64118044\n",
            " 0.68614371 0.66001013 0.65203074 0.58642236 0.56586169 0.66089673\n",
            " 0.65515494 0.70970193 0.66452757 0.69437642 0.69218104 0.63569197\n",
            " 0.65266402 0.63780292 0.7267162  0.71388162 0.74191506 0.75002111\n",
            " 0.77222832 0.83049059 0.8194292  0.8289707  0.8125475  0.78776492\n",
            " 0.75162543 0.78426074 0.77974331 0.81326522 0.8141096  0.79473106\n",
            " 0.83336148 0.85898843 0.83901883 0.85628641 0.87486279 0.88782403\n",
            " 0.90095415 0.92793211 0.948535   0.93333615 0.91746179 0.92544119\n",
            " 0.91771511 0.9483239  0.94064004 0.96635143 0.9563033  0.96491598\n",
            " 0.94413203 0.93795931 0.92865342 0.91987926 0.91280973 0.90777564\n",
            " 0.90473258 0.90339231 0.90332204 0.90403908 0.90509242 0.90611798\n",
            " 0.90686554 0.90720606 0.90711629 0.90665382 0.90592706 0.90506458\n",
            " 0.90419257 0.90341312 0.90279734 0.90238118 0.90216941 0.90213937\n",
            " 0.90225279 0.90246403 0.90272856 0.90300757]\n"
          ],
          "name": "stdout"
        },
        {
          "output_type": "stream",
          "text": [
            "28 day output [[0.903272]]\n",
            "29 day input [1.         0.99016297 0.99050072 0.96538039 0.98488559 0.97086887\n",
            " 0.94026007 0.87748037 0.83483915 0.85413324 0.77336823 0.77269273\n",
            " 0.88014017 0.84007431 0.89673225 0.85527316 0.83884995 0.74233725\n",
            " 0.82327113 0.78143207 0.6665963  0.7921557  0.64118044 0.68614371\n",
            " 0.66001013 0.65203074 0.58642236 0.56586169 0.66089673 0.65515494\n",
            " 0.70970193 0.66452757 0.69437642 0.69218104 0.63569197 0.65266402\n",
            " 0.63780292 0.7267162  0.71388162 0.74191506 0.75002111 0.77222832\n",
            " 0.83049059 0.8194292  0.8289707  0.8125475  0.78776492 0.75162543\n",
            " 0.78426074 0.77974331 0.81326522 0.8141096  0.79473106 0.83336148\n",
            " 0.85898843 0.83901883 0.85628641 0.87486279 0.88782403 0.90095415\n",
            " 0.92793211 0.948535   0.93333615 0.91746179 0.92544119 0.91771511\n",
            " 0.9483239  0.94064004 0.96635143 0.9563033  0.96491598 0.94413203\n",
            " 0.93795931 0.92865342 0.91987926 0.91280973 0.90777564 0.90473258\n",
            " 0.90339231 0.90332204 0.90403908 0.90509242 0.90611798 0.90686554\n",
            " 0.90720606 0.90711629 0.90665382 0.90592706 0.90506458 0.90419257\n",
            " 0.90341312 0.90279734 0.90238118 0.90216941 0.90213937 0.90225279\n",
            " 0.90246403 0.90272856 0.90300757 0.90327197]\n",
            "29 day output [[0.90350425]]\n",
            "[[0.9441320300102234], [0.9379593133926392], [0.9286534190177917], [0.9198792576789856], [0.9128097295761108], [0.9077756404876709], [0.9047325849533081], [0.9033923149108887], [0.9033220410346985], [0.9040390849113464], [0.9050924181938171], [0.9061179757118225], [0.9068655371665955], [0.9072060585021973], [0.9071162939071655], [0.9066538214683533], [0.9059270620346069], [0.905064582824707], [0.9041925668716431], [0.9034131169319153], [0.9027973413467407], [0.902381181716919], [0.902169406414032], [0.9021393656730652], [0.9022527933120728], [0.9024640321731567], [0.9027285575866699], [0.9030075669288635], [0.9032719731330872], [0.9035042524337769]]\n"
          ],
          "name": "stdout"
        }
      ]
    },
    {
      "cell_type": "code",
      "metadata": {
        "id": "QqEdQM6jzESz"
      },
      "source": [
        "day_new=np.arange(1,101)\n",
        "day_pred=np.arange(101,131)"
      ],
      "execution_count": null,
      "outputs": []
    },
    {
      "cell_type": "code",
      "metadata": {
        "id": "7frkzQpWzESz"
      },
      "source": [
        "import matplotlib.pyplot as plt"
      ],
      "execution_count": null,
      "outputs": []
    },
    {
      "cell_type": "code",
      "metadata": {
        "id": "yqGz_f09zESz",
        "outputId": "5c9d3157-8647-454f-f323-7768809a40c5"
      },
      "source": [
        "len(df1)"
      ],
      "execution_count": null,
      "outputs": [
        {
          "output_type": "execute_result",
          "data": {
            "text/plain": [
              "1258"
            ]
          },
          "metadata": {
            "tags": []
          },
          "execution_count": 391
        }
      ]
    },
    {
      "cell_type": "code",
      "metadata": {
        "id": "0wYP4l5HzESz"
      },
      "source": [
        ""
      ],
      "execution_count": null,
      "outputs": []
    },
    {
      "cell_type": "code",
      "metadata": {
        "id": "poaEey_KzESz",
        "outputId": "6a01498b-e0a0-40e9-bef2-77d74196a461"
      },
      "source": [
        "plt.plot(day_new,scaler.inverse_transform(df1[1158:]))\n",
        "plt.plot(day_pred,scaler.inverse_transform(lst_output))"
      ],
      "execution_count": null,
      "outputs": [
        {
          "output_type": "execute_result",
          "data": {
            "text/plain": [
              "[<matplotlib.lines.Line2D at 0x2d1b0f352b0>]"
            ]
          },
          "metadata": {
            "tags": []
          },
          "execution_count": 444
        },
        {
          "output_type": "display_data",
          "data": {
            "image/png": "[encoded data removed]",
            "text/plain": [
              "<Figure size 432x288 with 1 Axes>"
            ]
          },
          "metadata": {
            "tags": [],
            "needs_background": "light"
          }
        }
      ]
    },
    {
      "cell_type": "code",
      "metadata": {
        "id": "jsR5xZc8zESz",
        "outputId": "47493ba4-cea1-4bfc-d9ab-e076af574084"
      },
      "source": [
        "df3=df1.tolist()\n",
        "df3.extend(lst_output)\n",
        "plt.plot(df3[1200:])"
      ],
      "execution_count": null,
      "outputs": [
        {
          "output_type": "execute_result",
          "data": {
            "text/plain": [
              "[<matplotlib.lines.Line2D at 0x2d1b0f55ac8>]"
            ]
          },
          "metadata": {
            "tags": []
          },
          "execution_count": 446
        },
        {
          "output_type": "display_data",
          "data": {
            "image/png": "[encoded data removed]",
            "text/plain": [
              "<Figure size 432x288 with 1 Axes>"
            ]
          },
          "metadata": {
            "tags": [],
            "needs_background": "light"
          }
        }
      ]
    },
    {
      "cell_type": "code",
      "metadata": {
        "id": "4gYW5lyRzES0"
      },
      "source": [
        "df3=scaler.inverse_transform(df3).tolist()"
      ],
      "execution_count": null,
      "outputs": []
    },
    {
      "cell_type": "code",
      "metadata": {
        "id": "OT-Ja7ANzES0",
        "outputId": "99ef74d8-5938-4d86-8b8e-f54f52da63da"
      },
      "source": [
        "plt.plot(df3)"
      ],
      "execution_count": null,
      "outputs": [
        {
          "output_type": "execute_result",
          "data": {
            "text/plain": [
              "[<matplotlib.lines.Line2D at 0x2d1a904c470>]"
            ]
          },
          "metadata": {
            "tags": []
          },
          "execution_count": 396
        },
        {
          "output_type": "display_data",
          "data": {
            "image/png": "[encoded data removed]",
            "text/plain": [
              "<Figure size 432x288 with 1 Axes>"
            ]
          },
          "metadata": {
            "tags": [],
            "needs_background": "light"
          }
        }
      ]
    },
    {
      "cell_type": "code",
      "metadata": {
        "id": "CloHwiynzES0"
      },
      "source": [
        ""
      ],
      "execution_count": null,
      "outputs": []
    }
  ]
}